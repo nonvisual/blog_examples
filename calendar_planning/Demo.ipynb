{
 "cells": [
  {
   "cell_type": "code",
   "execution_count": 1,
   "id": "located-advertising",
   "metadata": {},
   "outputs": [],
   "source": [
    "import plotly.graph_objects as go\n",
    "import numpy as np\n",
    "from dataclasses import dataclass\n",
    "from typing import List, Dict\n",
    "from pulp import *\n",
    "\n",
    "from visualization.event_drawer import draw_daily_events\n",
    "from visualization.calendar_drawer import draw_calendar\n",
    "from model.model_creator import create_model\n",
    "from data.generator import generate_data\n",
    "np.random.seed(1)\n"
   ]
  },
  {
   "cell_type": "markdown",
   "id": "significant-colors",
   "metadata": {},
   "source": [
    "# User input\n",
    "\n",
    "\n",
    "Users provides input with\n",
    "* calendar setting\n",
    "* Fixed events (randomly generated)\n",
    "* Events to assign for 2 Calendars\n",
    "\n",
    "MIP maximizes the objective value and produces daily assignment maximizing importance of scheduled events\n"
   ]
  },
  {
   "cell_type": "markdown",
   "id": "final-newman",
   "metadata": {},
   "source": [
    "### Notation\n",
    "\n",
    "#### Sets\n",
    "* $ i \\in \\mathcal{E}$ events\n",
    "* $ i \\in \\mathcal{E}^f$ fixed events\n",
    "* $ c \\in \\mathcal{C}$ calendars to fill\n",
    "* $ d \\in \\mathcal{D}$ days\n",
    "* $ t \\in \\mathcal{T}$ hourly time slots\n",
    "\n",
    "#### Variables\n",
    "* $z_{i,c,d,t}$ boolean variable, 1 if event $i$ was assigned to calendar $c$, day $d$ and hour $t$\n",
    "\n",
    "\n",
    "#### Constants\n",
    "* $K_i$ - duration of event $i$\n",
    "* $F_{c,d,t} \\leq 1$ - number of fixed events in calendar $c$, day $d$ and hour $t$\n",
    "* $L_{c}$ - daily load (hours) allowed in each calendar"
   ]
  },
  {
   "cell_type": "markdown",
   "id": "operating-catch",
   "metadata": {},
   "source": [
    "$ \\max \\sum_{i \\in \\mathcal{E}} \\sum_{c \\in \\mathcal{C}} \\sum_{d \\in \\mathcal{D}} \\sum_{t \\in \\mathcal{T}} W_i z_{i,c,d,t}$\n",
    "\n",
    "$s.t. $\n",
    "\n",
    "$\\sum_{i \\in \\mathcal{E}} z_{i,c,d,t} +\\sum_{t' < t, t-t'<K_i -1} \\sum_{i \\in \\mathcal{E}} z_{i,c,d,t'}\n",
    "+ F_{c,d,t}\n",
    "\\leq 1 \\;, \\forall c \\in \\mathcal{C}, d \\in \\mathcal{D},  t \\in \\mathcal{T}$ [At maximum one event in each time slot]\n",
    "\n",
    "\n",
    "$ \\sum_{i \\in \\mathcal{E}} \\sum_{t \\in \\mathcal{T}} z_{i,c,d,t} \\leq L_c\\;, \\forall c \\in \\mathcal{C}, d \\in \\mathcal{D}$ [Daily load is respected]\n",
    "\n",
    "$z_{i,c,d,t} \\in \\{0,1\\}$"
   ]
  },
  {
   "cell_type": "code",
   "execution_count": 2,
   "id": "clean-vertical",
   "metadata": {},
   "outputs": [],
   "source": [
    "events = []\n",
    "fixed_events = []\n",
    "calendars,fixed_events,events = generate_data(\n",
    "    num_calendars=2, fixed_events_num=5, events_num=10\n",
    ")\n",
    "days = 7"
   ]
  },
  {
   "cell_type": "code",
   "execution_count": 3,
   "id": "further-listing",
   "metadata": {},
   "outputs": [],
   "source": [
    "# fig = draw_calendar(calendars[0],fixed_events[calendars[0]])\n",
    "# draw_calendar(calendars[1],fixed_events[calendars[1]],fig,5)\n",
    "# fig.show()"
   ]
  },
  {
   "cell_type": "code",
   "execution_count": 4,
   "id": "early-green",
   "metadata": {},
   "outputs": [],
   "source": [
    "calendar_timeslots = [range(c.day_start_time,c.day_end_time+1) for c in calendars]"
   ]
  },
  {
   "cell_type": "code",
   "execution_count": 5,
   "id": "hollywood-folder",
   "metadata": {},
   "outputs": [
    {
     "data": {
      "text/plain": [
       "{Calendar(name=\"V's Calendar\", day_start_time=9, day_end_time=19, daily_load=6): [Event(name='Coffee Break', min_time=11, max_time=12, possible_days=[4, 3, 1], importance=1, duration=1, repetition=1),\n",
       "  Event(name='Lunch', min_time=8, max_time=9, possible_days=[0, 2, 1], importance=1, duration=1, repetition=4),\n",
       "  Event(name='Call with Fred', min_time=14, max_time=16, possible_days=[1, 0, 3], importance=1, duration=2, repetition=4)],\n",
       " Calendar(name='Bart', day_start_time=9, day_end_time=20, daily_load=10): [Event(name='Coffee Break', min_time=15, max_time=17, possible_days=[2, 1, 0], importance=1, duration=2, repetition=5),\n",
       "  Event(name='Call with Fred', min_time=15, max_time=17, possible_days=[3, 0, 4], importance=1, duration=2, repetition=5)]}"
      ]
     },
     "execution_count": 5,
     "metadata": {},
     "output_type": "execute_result"
    }
   ],
   "source": [
    "fixed_events"
   ]
  },
  {
   "cell_type": "code",
   "execution_count": 6,
   "id": "composed-apparel",
   "metadata": {},
   "outputs": [],
   "source": [
    "from ortools.linear_solver import pywraplp\n"
   ]
  },
  {
   "cell_type": "code",
   "execution_count": 7,
   "id": "seeing-guatemala",
   "metadata": {},
   "outputs": [
    {
     "name": "stdout",
     "output_type": "stream",
     "text": [
      "we have more than 1 event assigned for the same time slot, droping constraint\n",
      "we have more than 1 event assigned for the same time slot, droping constraint\n",
      "we have more than 1 event assigned for the same time slot, droping constraint\n"
     ]
    }
   ],
   "source": [
    "solver, z =  create_model(\n",
    "    calendars,\n",
    "    events,\n",
    "    fixed_events\n",
    ")"
   ]
  },
  {
   "cell_type": "code",
   "execution_count": 8,
   "id": "colored-scanning",
   "metadata": {},
   "outputs": [],
   "source": [
    "status = solver.Solve()\n"
   ]
  },
  {
   "cell_type": "code",
   "execution_count": 9,
   "id": "environmental-peoples",
   "metadata": {},
   "outputs": [
    {
     "name": "stdout",
     "output_type": "stream",
     "text": [
      "Solution:\n",
      "Objective value = 10.0\n"
     ]
    },
    {
     "ename": "NameError",
     "evalue": "name 'x' is not defined",
     "output_type": "error",
     "traceback": [
      "\u001b[0;31m---------------------------------------------------------------------------\u001b[0m",
      "\u001b[0;31mNameError\u001b[0m                                 Traceback (most recent call last)",
      "\u001b[0;32m<ipython-input-9-8b8232b18333>\u001b[0m in \u001b[0;36m<module>\u001b[0;34m\u001b[0m\n\u001b[1;32m      2\u001b[0m     \u001b[0mprint\u001b[0m\u001b[0;34m(\u001b[0m\u001b[0;34m'Solution:'\u001b[0m\u001b[0;34m)\u001b[0m\u001b[0;34m\u001b[0m\u001b[0;34m\u001b[0m\u001b[0m\n\u001b[1;32m      3\u001b[0m     \u001b[0mprint\u001b[0m\u001b[0;34m(\u001b[0m\u001b[0;34m'Objective value ='\u001b[0m\u001b[0;34m,\u001b[0m \u001b[0msolver\u001b[0m\u001b[0;34m.\u001b[0m\u001b[0mObjective\u001b[0m\u001b[0;34m(\u001b[0m\u001b[0;34m)\u001b[0m\u001b[0;34m.\u001b[0m\u001b[0mValue\u001b[0m\u001b[0;34m(\u001b[0m\u001b[0;34m)\u001b[0m\u001b[0;34m)\u001b[0m\u001b[0;34m\u001b[0m\u001b[0;34m\u001b[0m\u001b[0m\n\u001b[0;32m----> 4\u001b[0;31m     \u001b[0mprint\u001b[0m\u001b[0;34m(\u001b[0m\u001b[0;34m'x ='\u001b[0m\u001b[0;34m,\u001b[0m \u001b[0mx\u001b[0m\u001b[0;34m.\u001b[0m\u001b[0msolution_value\u001b[0m\u001b[0;34m(\u001b[0m\u001b[0;34m)\u001b[0m\u001b[0;34m)\u001b[0m\u001b[0;34m\u001b[0m\u001b[0;34m\u001b[0m\u001b[0m\n\u001b[0m\u001b[1;32m      5\u001b[0m     \u001b[0mprint\u001b[0m\u001b[0;34m(\u001b[0m\u001b[0;34m'y ='\u001b[0m\u001b[0;34m,\u001b[0m \u001b[0my\u001b[0m\u001b[0;34m.\u001b[0m\u001b[0msolution_value\u001b[0m\u001b[0;34m(\u001b[0m\u001b[0;34m)\u001b[0m\u001b[0;34m)\u001b[0m\u001b[0;34m\u001b[0m\u001b[0;34m\u001b[0m\u001b[0m\n\u001b[1;32m      6\u001b[0m \u001b[0;32melse\u001b[0m\u001b[0;34m:\u001b[0m\u001b[0;34m\u001b[0m\u001b[0;34m\u001b[0m\u001b[0m\n",
      "\u001b[0;31mNameError\u001b[0m: name 'x' is not defined"
     ]
    }
   ],
   "source": [
    "if status == pywraplp.Solver.OPTIMAL:\n",
    "    print('Solution:')\n",
    "    print('Objective value =', solver.Objective().Value())\n",
    "    print('x =', x.solution_value())\n",
    "    print('y =', y.solution_value())\n",
    "else:\n",
    "    print('The problem does not have an optimal solution.')"
   ]
  },
  {
   "cell_type": "code",
   "execution_count": null,
   "id": "peripheral-burst",
   "metadata": {},
   "outputs": [],
   "source": []
  }
 ],
 "metadata": {
  "kernelspec": {
   "display_name": "Python 3",
   "language": "python",
   "name": "python3"
  },
  "language_info": {
   "codemirror_mode": {
    "name": "ipython",
    "version": 3
   },
   "file_extension": ".py",
   "mimetype": "text/x-python",
   "name": "python",
   "nbconvert_exporter": "python",
   "pygments_lexer": "ipython3",
   "version": "3.6.9"
  }
 },
 "nbformat": 4,
 "nbformat_minor": 5
}
