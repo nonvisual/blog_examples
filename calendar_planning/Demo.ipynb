{
 "cells": [
  {
   "cell_type": "code",
   "execution_count": 1,
   "id": "located-advertising",
   "metadata": {},
   "outputs": [],
   "source": [
    "import plotly.graph_objects as go\n",
    "import numpy as np\n",
    "from dataclasses import dataclass\n",
    "from typing import List, Dict\n",
    "from pulp import *\n",
    "\n",
    "from visualization.event_drawer import draw_daily_events\n",
    "from visualization.calendar_drawer import draw_calendar\n",
    "from data.calendar import Calendar\n",
    "from data.event import Event, EmptyEvent\n",
    "\n",
    "np.random.seed(1)\n"
   ]
  },
  {
   "cell_type": "markdown",
   "id": "significant-colors",
   "metadata": {},
   "source": [
    "# User input\n",
    "\n",
    "\n",
    "Users provides input with\n",
    "* calendar setting\n",
    "* Fixed events (randomly generated)\n",
    "* Events to assign for 2 Calendars\n",
    "\n",
    "MIP maximizes the objective value and produces daily assignment maximizing importance of scheduled events\n"
   ]
  },
  {
   "cell_type": "markdown",
   "id": "final-newman",
   "metadata": {},
   "source": [
    "### Notation\n",
    "\n",
    "#### Sets\n",
    "* $ i \\in \\mathcal{E}$ events\n",
    "* $ i \\in \\mathcal{E}^f$ fixed events\n",
    "* $ c \\in \\mathcal{C}$ calendars to fill\n",
    "* $ d \\in \\mathcal{D}$ days\n",
    "* $ t \\in \\mathcal{T}$ hourly time slots\n",
    "\n",
    "#### Variables\n",
    "* $z_{i,c,d,t}$ boolean variable, 1 if event $i$ was assigned to calendar $c$, day $d$ and hour $t$\n",
    "\n",
    "\n",
    "#### Constants\n",
    "* $K_i$ - duration of event $i$\n",
    "* $F_{c,d,t} \\leq 1$ - number of fixed events in calendar $c$, day $d$ and hour $t$\n",
    "* $L_{c}$ - daily load (hours) allowed in each calendar"
   ]
  },
  {
   "cell_type": "markdown",
   "id": "operating-catch",
   "metadata": {},
   "source": [
    "$ \\max \\sum_{i \\in \\mathcal{E}} \\sum_{c \\in \\mathcal{C}} \\sum_{d \\in \\mathcal{D}} \\sum_{t \\in \\mathcal{T}} W_i z_{i,c,d,t}$\n",
    "\n",
    "$s.t. $\n",
    "\n",
    "$\\sum_{i \\in \\mathcal{E}} z_{i,c,d,t} +\\sum_{t' < t, t-t'<K_i -1} \\sum_{i \\in \\mathcal{E}} z_{i,c,d,t'}\n",
    "+ F_{c,d,t}\n",
    "\\leq 1 \\;, \\forall c \\in \\mathcal{C}, d \\in \\mathcal{D},  t \\in \\mathcal{T}$ [At maximum one event in each time slot]\n",
    "\n",
    "\n",
    "$ \\sum_{i \\in \\mathcal{E}} \\sum_{t \\in \\mathcal{T}} z_{i,c,d,t} \\leq L_c\\;, \\forall c \\in \\mathcal{C}, d \\in \\mathcal{D}$ [Daily load is respected]\n",
    "\n",
    "$z_{i,c,d,t} \\in \\{0,1\\}$"
   ]
  },
  {
   "cell_type": "code",
   "execution_count": 9,
   "id": "bacterial-drawing",
   "metadata": {},
   "outputs": [],
   "source": [
    "calendar = Calendar(\"mine\",11,19)\n",
    "assignment = {0:{15:Event(\"Barber\",10,20,range(7),1,2,1)},\n",
    "             1:{},\n",
    "             2:{},\n",
    "             3:{},\n",
    "             4:{},\n",
    "             5:{},\n",
    "             6:{}}"
   ]
  },
  {
   "cell_type": "code",
   "execution_count": 11,
   "id": "further-listing",
   "metadata": {},
   "outputs": [
    {
     "data": {
      "application/vnd.plotly.v1+json": {
       "config": {
        "plotlyServerURL": "https://plot.ly"
       },
       "data": [
        {
         "mode": "text",
         "text": "11:00 ",
         "textposition": "bottom right",
         "type": "scatter",
         "x": [
          0.2
         ],
         "y": [
          0.1875
         ]
        },
        {
         "mode": "text",
         "text": "12:00 ",
         "textposition": "bottom right",
         "type": "scatter",
         "x": [
          0.2
         ],
         "y": [
          0.5625
         ]
        },
        {
         "mode": "text",
         "text": "13:00 ",
         "textposition": "bottom right",
         "type": "scatter",
         "x": [
          0.2
         ],
         "y": [
          0.9375
         ]
        },
        {
         "mode": "text",
         "text": "14:00 ",
         "textposition": "bottom right",
         "type": "scatter",
         "x": [
          0.2
         ],
         "y": [
          1.3125
         ]
        },
        {
         "mode": "text",
         "text": "15:00 Barber",
         "textposition": "bottom right",
         "type": "scatter",
         "x": [
          0.2
         ],
         "y": [
          1.6875
         ]
        },
        {
         "mode": "text",
         "text": "16:00 Barber",
         "textposition": "bottom right",
         "type": "scatter",
         "x": [
          0.2
         ],
         "y": [
          2.0625
         ]
        },
        {
         "mode": "text",
         "text": "17:00 ",
         "textposition": "bottom right",
         "type": "scatter",
         "x": [
          0.2
         ],
         "y": [
          2.4375
         ]
        },
        {
         "mode": "text",
         "text": "18:00 ",
         "textposition": "bottom right",
         "type": "scatter",
         "x": [
          0.2
         ],
         "y": [
          2.8125
         ]
        },
        {
         "mode": "text",
         "text": "19:00 ",
         "textposition": "bottom right",
         "type": "scatter",
         "x": [
          0.2
         ],
         "y": [
          3.1875
         ]
        },
        {
         "mode": "text",
         "text": "Monday",
         "textposition": "bottom center",
         "type": "scatter",
         "x": [
          0.30000000000000004
         ],
         "y": [
          3.6
         ]
        },
        {
         "mode": "text",
         "text": "11:00 ",
         "textposition": "bottom right",
         "type": "scatter",
         "x": [
          1.3
         ],
         "y": [
          0.1875
         ]
        },
        {
         "mode": "text",
         "text": "12:00 ",
         "textposition": "bottom right",
         "type": "scatter",
         "x": [
          1.3
         ],
         "y": [
          0.5625
         ]
        },
        {
         "mode": "text",
         "text": "13:00 ",
         "textposition": "bottom right",
         "type": "scatter",
         "x": [
          1.3
         ],
         "y": [
          0.9375
         ]
        },
        {
         "mode": "text",
         "text": "14:00 ",
         "textposition": "bottom right",
         "type": "scatter",
         "x": [
          1.3
         ],
         "y": [
          1.3125
         ]
        },
        {
         "mode": "text",
         "text": "15:00 ",
         "textposition": "bottom right",
         "type": "scatter",
         "x": [
          1.3
         ],
         "y": [
          1.6875
         ]
        },
        {
         "mode": "text",
         "text": "16:00 ",
         "textposition": "bottom right",
         "type": "scatter",
         "x": [
          1.3
         ],
         "y": [
          2.0625
         ]
        },
        {
         "mode": "text",
         "text": "17:00 ",
         "textposition": "bottom right",
         "type": "scatter",
         "x": [
          1.3
         ],
         "y": [
          2.4375
         ]
        },
        {
         "mode": "text",
         "text": "18:00 ",
         "textposition": "bottom right",
         "type": "scatter",
         "x": [
          1.3
         ],
         "y": [
          2.8125
         ]
        },
        {
         "mode": "text",
         "text": "19:00 ",
         "textposition": "bottom right",
         "type": "scatter",
         "x": [
          1.3
         ],
         "y": [
          3.1875
         ]
        },
        {
         "mode": "text",
         "text": "Tuesday",
         "textposition": "bottom center",
         "type": "scatter",
         "x": [
          1.4
         ],
         "y": [
          3.6
         ]
        },
        {
         "mode": "text",
         "text": "11:00 ",
         "textposition": "bottom right",
         "type": "scatter",
         "x": [
          2.4
         ],
         "y": [
          0.1875
         ]
        },
        {
         "mode": "text",
         "text": "12:00 ",
         "textposition": "bottom right",
         "type": "scatter",
         "x": [
          2.4
         ],
         "y": [
          0.5625
         ]
        },
        {
         "mode": "text",
         "text": "13:00 ",
         "textposition": "bottom right",
         "type": "scatter",
         "x": [
          2.4
         ],
         "y": [
          0.9375
         ]
        },
        {
         "mode": "text",
         "text": "14:00 ",
         "textposition": "bottom right",
         "type": "scatter",
         "x": [
          2.4
         ],
         "y": [
          1.3125
         ]
        },
        {
         "mode": "text",
         "text": "15:00 ",
         "textposition": "bottom right",
         "type": "scatter",
         "x": [
          2.4
         ],
         "y": [
          1.6875
         ]
        },
        {
         "mode": "text",
         "text": "16:00 ",
         "textposition": "bottom right",
         "type": "scatter",
         "x": [
          2.4
         ],
         "y": [
          2.0625
         ]
        },
        {
         "mode": "text",
         "text": "17:00 ",
         "textposition": "bottom right",
         "type": "scatter",
         "x": [
          2.4
         ],
         "y": [
          2.4375
         ]
        },
        {
         "mode": "text",
         "text": "18:00 ",
         "textposition": "bottom right",
         "type": "scatter",
         "x": [
          2.4
         ],
         "y": [
          2.8125
         ]
        },
        {
         "mode": "text",
         "text": "19:00 ",
         "textposition": "bottom right",
         "type": "scatter",
         "x": [
          2.4
         ],
         "y": [
          3.1875
         ]
        },
        {
         "mode": "text",
         "text": "Wednesday",
         "textposition": "bottom center",
         "type": "scatter",
         "x": [
          2.5
         ],
         "y": [
          3.6
         ]
        },
        {
         "mode": "text",
         "text": "11:00 ",
         "textposition": "bottom right",
         "type": "scatter",
         "x": [
          3.5
         ],
         "y": [
          0.1875
         ]
        },
        {
         "mode": "text",
         "text": "12:00 ",
         "textposition": "bottom right",
         "type": "scatter",
         "x": [
          3.5
         ],
         "y": [
          0.5625
         ]
        },
        {
         "mode": "text",
         "text": "13:00 ",
         "textposition": "bottom right",
         "type": "scatter",
         "x": [
          3.5
         ],
         "y": [
          0.9375
         ]
        },
        {
         "mode": "text",
         "text": "14:00 ",
         "textposition": "bottom right",
         "type": "scatter",
         "x": [
          3.5
         ],
         "y": [
          1.3125
         ]
        },
        {
         "mode": "text",
         "text": "15:00 ",
         "textposition": "bottom right",
         "type": "scatter",
         "x": [
          3.5
         ],
         "y": [
          1.6875
         ]
        },
        {
         "mode": "text",
         "text": "16:00 ",
         "textposition": "bottom right",
         "type": "scatter",
         "x": [
          3.5
         ],
         "y": [
          2.0625
         ]
        },
        {
         "mode": "text",
         "text": "17:00 ",
         "textposition": "bottom right",
         "type": "scatter",
         "x": [
          3.5
         ],
         "y": [
          2.4375
         ]
        },
        {
         "mode": "text",
         "text": "18:00 ",
         "textposition": "bottom right",
         "type": "scatter",
         "x": [
          3.5
         ],
         "y": [
          2.8125
         ]
        },
        {
         "mode": "text",
         "text": "19:00 ",
         "textposition": "bottom right",
         "type": "scatter",
         "x": [
          3.5
         ],
         "y": [
          3.1875
         ]
        },
        {
         "mode": "text",
         "text": "Thursday",
         "textposition": "bottom center",
         "type": "scatter",
         "x": [
          3.6
         ],
         "y": [
          3.6
         ]
        },
        {
         "mode": "text",
         "text": "11:00 ",
         "textposition": "bottom right",
         "type": "scatter",
         "x": [
          4.6
         ],
         "y": [
          0.1875
         ]
        },
        {
         "mode": "text",
         "text": "12:00 ",
         "textposition": "bottom right",
         "type": "scatter",
         "x": [
          4.6
         ],
         "y": [
          0.5625
         ]
        },
        {
         "mode": "text",
         "text": "13:00 ",
         "textposition": "bottom right",
         "type": "scatter",
         "x": [
          4.6
         ],
         "y": [
          0.9375
         ]
        },
        {
         "mode": "text",
         "text": "14:00 ",
         "textposition": "bottom right",
         "type": "scatter",
         "x": [
          4.6
         ],
         "y": [
          1.3125
         ]
        },
        {
         "mode": "text",
         "text": "15:00 ",
         "textposition": "bottom right",
         "type": "scatter",
         "x": [
          4.6
         ],
         "y": [
          1.6875
         ]
        },
        {
         "mode": "text",
         "text": "16:00 ",
         "textposition": "bottom right",
         "type": "scatter",
         "x": [
          4.6
         ],
         "y": [
          2.0625
         ]
        },
        {
         "mode": "text",
         "text": "17:00 ",
         "textposition": "bottom right",
         "type": "scatter",
         "x": [
          4.6
         ],
         "y": [
          2.4375
         ]
        },
        {
         "mode": "text",
         "text": "18:00 ",
         "textposition": "bottom right",
         "type": "scatter",
         "x": [
          4.6
         ],
         "y": [
          2.8125
         ]
        },
        {
         "mode": "text",
         "text": "19:00 ",
         "textposition": "bottom right",
         "type": "scatter",
         "x": [
          4.6
         ],
         "y": [
          3.1875
         ]
        },
        {
         "mode": "text",
         "text": "Friday",
         "textposition": "bottom center",
         "type": "scatter",
         "x": [
          4.7
         ],
         "y": [
          3.6
         ]
        },
        {
         "mode": "text",
         "text": "11:00 ",
         "textposition": "bottom right",
         "type": "scatter",
         "x": [
          0.2
         ],
         "y": [
          5.1875
         ]
        },
        {
         "mode": "text",
         "text": "12:00 ",
         "textposition": "bottom right",
         "type": "scatter",
         "x": [
          0.2
         ],
         "y": [
          5.5625
         ]
        },
        {
         "mode": "text",
         "text": "13:00 ",
         "textposition": "bottom right",
         "type": "scatter",
         "x": [
          0.2
         ],
         "y": [
          5.9375
         ]
        },
        {
         "mode": "text",
         "text": "14:00 ",
         "textposition": "bottom right",
         "type": "scatter",
         "x": [
          0.2
         ],
         "y": [
          6.3125
         ]
        },
        {
         "mode": "text",
         "text": "15:00 Barber",
         "textposition": "bottom right",
         "type": "scatter",
         "x": [
          0.2
         ],
         "y": [
          6.6875
         ]
        },
        {
         "mode": "text",
         "text": "16:00 Barber",
         "textposition": "bottom right",
         "type": "scatter",
         "x": [
          0.2
         ],
         "y": [
          7.0625
         ]
        },
        {
         "mode": "text",
         "text": "17:00 ",
         "textposition": "bottom right",
         "type": "scatter",
         "x": [
          0.2
         ],
         "y": [
          7.4375
         ]
        },
        {
         "mode": "text",
         "text": "18:00 ",
         "textposition": "bottom right",
         "type": "scatter",
         "x": [
          0.2
         ],
         "y": [
          7.8125
         ]
        },
        {
         "mode": "text",
         "text": "19:00 ",
         "textposition": "bottom right",
         "type": "scatter",
         "x": [
          0.2
         ],
         "y": [
          8.1875
         ]
        },
        {
         "mode": "text",
         "text": "Monday",
         "textposition": "bottom center",
         "type": "scatter",
         "x": [
          0.30000000000000004
         ],
         "y": [
          8.6
         ]
        },
        {
         "mode": "text",
         "text": "11:00 ",
         "textposition": "bottom right",
         "type": "scatter",
         "x": [
          1.3
         ],
         "y": [
          5.1875
         ]
        },
        {
         "mode": "text",
         "text": "12:00 ",
         "textposition": "bottom right",
         "type": "scatter",
         "x": [
          1.3
         ],
         "y": [
          5.5625
         ]
        },
        {
         "mode": "text",
         "text": "13:00 ",
         "textposition": "bottom right",
         "type": "scatter",
         "x": [
          1.3
         ],
         "y": [
          5.9375
         ]
        },
        {
         "mode": "text",
         "text": "14:00 ",
         "textposition": "bottom right",
         "type": "scatter",
         "x": [
          1.3
         ],
         "y": [
          6.3125
         ]
        },
        {
         "mode": "text",
         "text": "15:00 ",
         "textposition": "bottom right",
         "type": "scatter",
         "x": [
          1.3
         ],
         "y": [
          6.6875
         ]
        },
        {
         "mode": "text",
         "text": "16:00 ",
         "textposition": "bottom right",
         "type": "scatter",
         "x": [
          1.3
         ],
         "y": [
          7.0625
         ]
        },
        {
         "mode": "text",
         "text": "17:00 ",
         "textposition": "bottom right",
         "type": "scatter",
         "x": [
          1.3
         ],
         "y": [
          7.4375
         ]
        },
        {
         "mode": "text",
         "text": "18:00 ",
         "textposition": "bottom right",
         "type": "scatter",
         "x": [
          1.3
         ],
         "y": [
          7.8125
         ]
        },
        {
         "mode": "text",
         "text": "19:00 ",
         "textposition": "bottom right",
         "type": "scatter",
         "x": [
          1.3
         ],
         "y": [
          8.1875
         ]
        },
        {
         "mode": "text",
         "text": "Tuesday",
         "textposition": "bottom center",
         "type": "scatter",
         "x": [
          1.4
         ],
         "y": [
          8.6
         ]
        },
        {
         "mode": "text",
         "text": "11:00 ",
         "textposition": "bottom right",
         "type": "scatter",
         "x": [
          2.4
         ],
         "y": [
          5.1875
         ]
        },
        {
         "mode": "text",
         "text": "12:00 ",
         "textposition": "bottom right",
         "type": "scatter",
         "x": [
          2.4
         ],
         "y": [
          5.5625
         ]
        },
        {
         "mode": "text",
         "text": "13:00 ",
         "textposition": "bottom right",
         "type": "scatter",
         "x": [
          2.4
         ],
         "y": [
          5.9375
         ]
        },
        {
         "mode": "text",
         "text": "14:00 ",
         "textposition": "bottom right",
         "type": "scatter",
         "x": [
          2.4
         ],
         "y": [
          6.3125
         ]
        },
        {
         "mode": "text",
         "text": "15:00 ",
         "textposition": "bottom right",
         "type": "scatter",
         "x": [
          2.4
         ],
         "y": [
          6.6875
         ]
        },
        {
         "mode": "text",
         "text": "16:00 ",
         "textposition": "bottom right",
         "type": "scatter",
         "x": [
          2.4
         ],
         "y": [
          7.0625
         ]
        },
        {
         "mode": "text",
         "text": "17:00 ",
         "textposition": "bottom right",
         "type": "scatter",
         "x": [
          2.4
         ],
         "y": [
          7.4375
         ]
        },
        {
         "mode": "text",
         "text": "18:00 ",
         "textposition": "bottom right",
         "type": "scatter",
         "x": [
          2.4
         ],
         "y": [
          7.8125
         ]
        },
        {
         "mode": "text",
         "text": "19:00 ",
         "textposition": "bottom right",
         "type": "scatter",
         "x": [
          2.4
         ],
         "y": [
          8.1875
         ]
        },
        {
         "mode": "text",
         "text": "Wednesday",
         "textposition": "bottom center",
         "type": "scatter",
         "x": [
          2.5
         ],
         "y": [
          8.6
         ]
        },
        {
         "mode": "text",
         "text": "11:00 ",
         "textposition": "bottom right",
         "type": "scatter",
         "x": [
          3.5
         ],
         "y": [
          5.1875
         ]
        },
        {
         "mode": "text",
         "text": "12:00 ",
         "textposition": "bottom right",
         "type": "scatter",
         "x": [
          3.5
         ],
         "y": [
          5.5625
         ]
        },
        {
         "mode": "text",
         "text": "13:00 ",
         "textposition": "bottom right",
         "type": "scatter",
         "x": [
          3.5
         ],
         "y": [
          5.9375
         ]
        },
        {
         "mode": "text",
         "text": "14:00 ",
         "textposition": "bottom right",
         "type": "scatter",
         "x": [
          3.5
         ],
         "y": [
          6.3125
         ]
        },
        {
         "mode": "text",
         "text": "15:00 ",
         "textposition": "bottom right",
         "type": "scatter",
         "x": [
          3.5
         ],
         "y": [
          6.6875
         ]
        },
        {
         "mode": "text",
         "text": "16:00 ",
         "textposition": "bottom right",
         "type": "scatter",
         "x": [
          3.5
         ],
         "y": [
          7.0625
         ]
        },
        {
         "mode": "text",
         "text": "17:00 ",
         "textposition": "bottom right",
         "type": "scatter",
         "x": [
          3.5
         ],
         "y": [
          7.4375
         ]
        },
        {
         "mode": "text",
         "text": "18:00 ",
         "textposition": "bottom right",
         "type": "scatter",
         "x": [
          3.5
         ],
         "y": [
          7.8125
         ]
        },
        {
         "mode": "text",
         "text": "19:00 ",
         "textposition": "bottom right",
         "type": "scatter",
         "x": [
          3.5
         ],
         "y": [
          8.1875
         ]
        },
        {
         "mode": "text",
         "text": "Thursday",
         "textposition": "bottom center",
         "type": "scatter",
         "x": [
          3.6
         ],
         "y": [
          8.6
         ]
        },
        {
         "mode": "text",
         "text": "11:00 ",
         "textposition": "bottom right",
         "type": "scatter",
         "x": [
          4.6
         ],
         "y": [
          5.1875
         ]
        },
        {
         "mode": "text",
         "text": "12:00 ",
         "textposition": "bottom right",
         "type": "scatter",
         "x": [
          4.6
         ],
         "y": [
          5.5625
         ]
        },
        {
         "mode": "text",
         "text": "13:00 ",
         "textposition": "bottom right",
         "type": "scatter",
         "x": [
          4.6
         ],
         "y": [
          5.9375
         ]
        },
        {
         "mode": "text",
         "text": "14:00 ",
         "textposition": "bottom right",
         "type": "scatter",
         "x": [
          4.6
         ],
         "y": [
          6.3125
         ]
        },
        {
         "mode": "text",
         "text": "15:00 ",
         "textposition": "bottom right",
         "type": "scatter",
         "x": [
          4.6
         ],
         "y": [
          6.6875
         ]
        },
        {
         "mode": "text",
         "text": "16:00 ",
         "textposition": "bottom right",
         "type": "scatter",
         "x": [
          4.6
         ],
         "y": [
          7.0625
         ]
        },
        {
         "mode": "text",
         "text": "17:00 ",
         "textposition": "bottom right",
         "type": "scatter",
         "x": [
          4.6
         ],
         "y": [
          7.4375
         ]
        },
        {
         "mode": "text",
         "text": "18:00 ",
         "textposition": "bottom right",
         "type": "scatter",
         "x": [
          4.6
         ],
         "y": [
          7.8125
         ]
        },
        {
         "mode": "text",
         "text": "19:00 ",
         "textposition": "bottom right",
         "type": "scatter",
         "x": [
          4.6
         ],
         "y": [
          8.1875
         ]
        },
        {
         "mode": "text",
         "text": "Friday",
         "textposition": "bottom center",
         "type": "scatter",
         "x": [
          4.7
         ],
         "y": [
          8.6
         ]
        }
       ],
       "layout": {
        "font": {
         "size": 9
        },
        "height": 600,
        "margin": {
         "b": 100,
         "l": 20,
         "r": 20
        },
        "plot_bgcolor": "white",
        "shapes": [
         {
          "fillcolor": "grey",
          "line": {
           "color": "LightSeaGreen",
           "width": 3
          },
          "opacity": 0.3,
          "type": "rect",
          "x0": 0.1,
          "x1": 1.1,
          "xref": "x",
          "y0": 0,
          "y1": 0.375,
          "yref": "y"
         },
         {
          "fillcolor": "grey",
          "line": {
           "color": "LightSeaGreen",
           "width": 3
          },
          "opacity": 0.3,
          "type": "rect",
          "x0": 0.1,
          "x1": 1.1,
          "xref": "x",
          "y0": 0.375,
          "y1": 0.75,
          "yref": "y"
         },
         {
          "fillcolor": "grey",
          "line": {
           "color": "LightSeaGreen",
           "width": 3
          },
          "opacity": 0.3,
          "type": "rect",
          "x0": 0.1,
          "x1": 1.1,
          "xref": "x",
          "y0": 0.75,
          "y1": 1.125,
          "yref": "y"
         },
         {
          "fillcolor": "grey",
          "line": {
           "color": "LightSeaGreen",
           "width": 3
          },
          "opacity": 0.3,
          "type": "rect",
          "x0": 0.1,
          "x1": 1.1,
          "xref": "x",
          "y0": 1.125,
          "y1": 1.5,
          "yref": "y"
         },
         {
          "fillcolor": "blue",
          "line": {
           "color": "LightSeaGreen",
           "width": 3
          },
          "opacity": 0.3,
          "type": "rect",
          "x0": 0.1,
          "x1": 1.1,
          "xref": "x",
          "y0": 1.5,
          "y1": 1.875,
          "yref": "y"
         },
         {
          "fillcolor": "blue",
          "line": {
           "color": "LightSeaGreen",
           "width": 3
          },
          "opacity": 0.3,
          "type": "rect",
          "x0": 0.1,
          "x1": 1.1,
          "xref": "x",
          "y0": 1.875,
          "y1": 2.25,
          "yref": "y"
         },
         {
          "fillcolor": "grey",
          "line": {
           "color": "LightSeaGreen",
           "width": 3
          },
          "opacity": 0.3,
          "type": "rect",
          "x0": 0.1,
          "x1": 1.1,
          "xref": "x",
          "y0": 2.25,
          "y1": 2.625,
          "yref": "y"
         },
         {
          "fillcolor": "grey",
          "line": {
           "color": "LightSeaGreen",
           "width": 3
          },
          "opacity": 0.3,
          "type": "rect",
          "x0": 0.1,
          "x1": 1.1,
          "xref": "x",
          "y0": 2.625,
          "y1": 3,
          "yref": "y"
         },
         {
          "fillcolor": "grey",
          "line": {
           "color": "LightSeaGreen",
           "width": 3
          },
          "opacity": 0.3,
          "type": "rect",
          "x0": 0.1,
          "x1": 1.1,
          "xref": "x",
          "y0": 3,
          "y1": 3.375,
          "yref": "y"
         },
         {
          "fillcolor": "grey",
          "line": {
           "color": "LightSeaGreen",
           "width": 3
          },
          "opacity": 0.3,
          "type": "rect",
          "x0": 1.2,
          "x1": 2.2,
          "xref": "x",
          "y0": 0,
          "y1": 0.375,
          "yref": "y"
         },
         {
          "fillcolor": "grey",
          "line": {
           "color": "LightSeaGreen",
           "width": 3
          },
          "opacity": 0.3,
          "type": "rect",
          "x0": 1.2,
          "x1": 2.2,
          "xref": "x",
          "y0": 0.375,
          "y1": 0.75,
          "yref": "y"
         },
         {
          "fillcolor": "grey",
          "line": {
           "color": "LightSeaGreen",
           "width": 3
          },
          "opacity": 0.3,
          "type": "rect",
          "x0": 1.2,
          "x1": 2.2,
          "xref": "x",
          "y0": 0.75,
          "y1": 1.125,
          "yref": "y"
         },
         {
          "fillcolor": "grey",
          "line": {
           "color": "LightSeaGreen",
           "width": 3
          },
          "opacity": 0.3,
          "type": "rect",
          "x0": 1.2,
          "x1": 2.2,
          "xref": "x",
          "y0": 1.125,
          "y1": 1.5,
          "yref": "y"
         },
         {
          "fillcolor": "grey",
          "line": {
           "color": "LightSeaGreen",
           "width": 3
          },
          "opacity": 0.3,
          "type": "rect",
          "x0": 1.2,
          "x1": 2.2,
          "xref": "x",
          "y0": 1.5,
          "y1": 1.875,
          "yref": "y"
         },
         {
          "fillcolor": "grey",
          "line": {
           "color": "LightSeaGreen",
           "width": 3
          },
          "opacity": 0.3,
          "type": "rect",
          "x0": 1.2,
          "x1": 2.2,
          "xref": "x",
          "y0": 1.875,
          "y1": 2.25,
          "yref": "y"
         },
         {
          "fillcolor": "grey",
          "line": {
           "color": "LightSeaGreen",
           "width": 3
          },
          "opacity": 0.3,
          "type": "rect",
          "x0": 1.2,
          "x1": 2.2,
          "xref": "x",
          "y0": 2.25,
          "y1": 2.625,
          "yref": "y"
         },
         {
          "fillcolor": "grey",
          "line": {
           "color": "LightSeaGreen",
           "width": 3
          },
          "opacity": 0.3,
          "type": "rect",
          "x0": 1.2,
          "x1": 2.2,
          "xref": "x",
          "y0": 2.625,
          "y1": 3,
          "yref": "y"
         },
         {
          "fillcolor": "grey",
          "line": {
           "color": "LightSeaGreen",
           "width": 3
          },
          "opacity": 0.3,
          "type": "rect",
          "x0": 1.2,
          "x1": 2.2,
          "xref": "x",
          "y0": 3,
          "y1": 3.375,
          "yref": "y"
         },
         {
          "fillcolor": "grey",
          "line": {
           "color": "LightSeaGreen",
           "width": 3
          },
          "opacity": 0.3,
          "type": "rect",
          "x0": 2.3,
          "x1": 3.3,
          "xref": "x",
          "y0": 0,
          "y1": 0.375,
          "yref": "y"
         },
         {
          "fillcolor": "grey",
          "line": {
           "color": "LightSeaGreen",
           "width": 3
          },
          "opacity": 0.3,
          "type": "rect",
          "x0": 2.3,
          "x1": 3.3,
          "xref": "x",
          "y0": 0.375,
          "y1": 0.75,
          "yref": "y"
         },
         {
          "fillcolor": "grey",
          "line": {
           "color": "LightSeaGreen",
           "width": 3
          },
          "opacity": 0.3,
          "type": "rect",
          "x0": 2.3,
          "x1": 3.3,
          "xref": "x",
          "y0": 0.75,
          "y1": 1.125,
          "yref": "y"
         },
         {
          "fillcolor": "grey",
          "line": {
           "color": "LightSeaGreen",
           "width": 3
          },
          "opacity": 0.3,
          "type": "rect",
          "x0": 2.3,
          "x1": 3.3,
          "xref": "x",
          "y0": 1.125,
          "y1": 1.5,
          "yref": "y"
         },
         {
          "fillcolor": "grey",
          "line": {
           "color": "LightSeaGreen",
           "width": 3
          },
          "opacity": 0.3,
          "type": "rect",
          "x0": 2.3,
          "x1": 3.3,
          "xref": "x",
          "y0": 1.5,
          "y1": 1.875,
          "yref": "y"
         },
         {
          "fillcolor": "grey",
          "line": {
           "color": "LightSeaGreen",
           "width": 3
          },
          "opacity": 0.3,
          "type": "rect",
          "x0": 2.3,
          "x1": 3.3,
          "xref": "x",
          "y0": 1.875,
          "y1": 2.25,
          "yref": "y"
         },
         {
          "fillcolor": "grey",
          "line": {
           "color": "LightSeaGreen",
           "width": 3
          },
          "opacity": 0.3,
          "type": "rect",
          "x0": 2.3,
          "x1": 3.3,
          "xref": "x",
          "y0": 2.25,
          "y1": 2.625,
          "yref": "y"
         },
         {
          "fillcolor": "grey",
          "line": {
           "color": "LightSeaGreen",
           "width": 3
          },
          "opacity": 0.3,
          "type": "rect",
          "x0": 2.3,
          "x1": 3.3,
          "xref": "x",
          "y0": 2.625,
          "y1": 3,
          "yref": "y"
         },
         {
          "fillcolor": "grey",
          "line": {
           "color": "LightSeaGreen",
           "width": 3
          },
          "opacity": 0.3,
          "type": "rect",
          "x0": 2.3,
          "x1": 3.3,
          "xref": "x",
          "y0": 3,
          "y1": 3.375,
          "yref": "y"
         },
         {
          "fillcolor": "grey",
          "line": {
           "color": "LightSeaGreen",
           "width": 3
          },
          "opacity": 0.3,
          "type": "rect",
          "x0": 3.4,
          "x1": 4.4,
          "xref": "x",
          "y0": 0,
          "y1": 0.375,
          "yref": "y"
         },
         {
          "fillcolor": "grey",
          "line": {
           "color": "LightSeaGreen",
           "width": 3
          },
          "opacity": 0.3,
          "type": "rect",
          "x0": 3.4,
          "x1": 4.4,
          "xref": "x",
          "y0": 0.375,
          "y1": 0.75,
          "yref": "y"
         },
         {
          "fillcolor": "grey",
          "line": {
           "color": "LightSeaGreen",
           "width": 3
          },
          "opacity": 0.3,
          "type": "rect",
          "x0": 3.4,
          "x1": 4.4,
          "xref": "x",
          "y0": 0.75,
          "y1": 1.125,
          "yref": "y"
         },
         {
          "fillcolor": "grey",
          "line": {
           "color": "LightSeaGreen",
           "width": 3
          },
          "opacity": 0.3,
          "type": "rect",
          "x0": 3.4,
          "x1": 4.4,
          "xref": "x",
          "y0": 1.125,
          "y1": 1.5,
          "yref": "y"
         },
         {
          "fillcolor": "grey",
          "line": {
           "color": "LightSeaGreen",
           "width": 3
          },
          "opacity": 0.3,
          "type": "rect",
          "x0": 3.4,
          "x1": 4.4,
          "xref": "x",
          "y0": 1.5,
          "y1": 1.875,
          "yref": "y"
         },
         {
          "fillcolor": "grey",
          "line": {
           "color": "LightSeaGreen",
           "width": 3
          },
          "opacity": 0.3,
          "type": "rect",
          "x0": 3.4,
          "x1": 4.4,
          "xref": "x",
          "y0": 1.875,
          "y1": 2.25,
          "yref": "y"
         },
         {
          "fillcolor": "grey",
          "line": {
           "color": "LightSeaGreen",
           "width": 3
          },
          "opacity": 0.3,
          "type": "rect",
          "x0": 3.4,
          "x1": 4.4,
          "xref": "x",
          "y0": 2.25,
          "y1": 2.625,
          "yref": "y"
         },
         {
          "fillcolor": "grey",
          "line": {
           "color": "LightSeaGreen",
           "width": 3
          },
          "opacity": 0.3,
          "type": "rect",
          "x0": 3.4,
          "x1": 4.4,
          "xref": "x",
          "y0": 2.625,
          "y1": 3,
          "yref": "y"
         },
         {
          "fillcolor": "grey",
          "line": {
           "color": "LightSeaGreen",
           "width": 3
          },
          "opacity": 0.3,
          "type": "rect",
          "x0": 3.4,
          "x1": 4.4,
          "xref": "x",
          "y0": 3,
          "y1": 3.375,
          "yref": "y"
         },
         {
          "fillcolor": "grey",
          "line": {
           "color": "LightSeaGreen",
           "width": 3
          },
          "opacity": 0.3,
          "type": "rect",
          "x0": 4.5,
          "x1": 5.5,
          "xref": "x",
          "y0": 0,
          "y1": 0.375,
          "yref": "y"
         },
         {
          "fillcolor": "grey",
          "line": {
           "color": "LightSeaGreen",
           "width": 3
          },
          "opacity": 0.3,
          "type": "rect",
          "x0": 4.5,
          "x1": 5.5,
          "xref": "x",
          "y0": 0.375,
          "y1": 0.75,
          "yref": "y"
         },
         {
          "fillcolor": "grey",
          "line": {
           "color": "LightSeaGreen",
           "width": 3
          },
          "opacity": 0.3,
          "type": "rect",
          "x0": 4.5,
          "x1": 5.5,
          "xref": "x",
          "y0": 0.75,
          "y1": 1.125,
          "yref": "y"
         },
         {
          "fillcolor": "grey",
          "line": {
           "color": "LightSeaGreen",
           "width": 3
          },
          "opacity": 0.3,
          "type": "rect",
          "x0": 4.5,
          "x1": 5.5,
          "xref": "x",
          "y0": 1.125,
          "y1": 1.5,
          "yref": "y"
         },
         {
          "fillcolor": "grey",
          "line": {
           "color": "LightSeaGreen",
           "width": 3
          },
          "opacity": 0.3,
          "type": "rect",
          "x0": 4.5,
          "x1": 5.5,
          "xref": "x",
          "y0": 1.5,
          "y1": 1.875,
          "yref": "y"
         },
         {
          "fillcolor": "grey",
          "line": {
           "color": "LightSeaGreen",
           "width": 3
          },
          "opacity": 0.3,
          "type": "rect",
          "x0": 4.5,
          "x1": 5.5,
          "xref": "x",
          "y0": 1.875,
          "y1": 2.25,
          "yref": "y"
         },
         {
          "fillcolor": "grey",
          "line": {
           "color": "LightSeaGreen",
           "width": 3
          },
          "opacity": 0.3,
          "type": "rect",
          "x0": 4.5,
          "x1": 5.5,
          "xref": "x",
          "y0": 2.25,
          "y1": 2.625,
          "yref": "y"
         },
         {
          "fillcolor": "grey",
          "line": {
           "color": "LightSeaGreen",
           "width": 3
          },
          "opacity": 0.3,
          "type": "rect",
          "x0": 4.5,
          "x1": 5.5,
          "xref": "x",
          "y0": 2.625,
          "y1": 3,
          "yref": "y"
         },
         {
          "fillcolor": "grey",
          "line": {
           "color": "LightSeaGreen",
           "width": 3
          },
          "opacity": 0.3,
          "type": "rect",
          "x0": 4.5,
          "x1": 5.5,
          "xref": "x",
          "y0": 3,
          "y1": 3.375,
          "yref": "y"
         },
         {
          "fillcolor": "grey",
          "line": {
           "color": "LightSeaGreen",
           "width": 3
          },
          "opacity": 0.3,
          "type": "rect",
          "x0": 0.1,
          "x1": 1.1,
          "xref": "x",
          "y0": 5,
          "y1": 5.375,
          "yref": "y"
         },
         {
          "fillcolor": "grey",
          "line": {
           "color": "LightSeaGreen",
           "width": 3
          },
          "opacity": 0.3,
          "type": "rect",
          "x0": 0.1,
          "x1": 1.1,
          "xref": "x",
          "y0": 5.375,
          "y1": 5.75,
          "yref": "y"
         },
         {
          "fillcolor": "grey",
          "line": {
           "color": "LightSeaGreen",
           "width": 3
          },
          "opacity": 0.3,
          "type": "rect",
          "x0": 0.1,
          "x1": 1.1,
          "xref": "x",
          "y0": 5.75,
          "y1": 6.125,
          "yref": "y"
         },
         {
          "fillcolor": "grey",
          "line": {
           "color": "LightSeaGreen",
           "width": 3
          },
          "opacity": 0.3,
          "type": "rect",
          "x0": 0.1,
          "x1": 1.1,
          "xref": "x",
          "y0": 6.125,
          "y1": 6.5,
          "yref": "y"
         },
         {
          "fillcolor": "blue",
          "line": {
           "color": "LightSeaGreen",
           "width": 3
          },
          "opacity": 0.3,
          "type": "rect",
          "x0": 0.1,
          "x1": 1.1,
          "xref": "x",
          "y0": 6.5,
          "y1": 6.875,
          "yref": "y"
         },
         {
          "fillcolor": "blue",
          "line": {
           "color": "LightSeaGreen",
           "width": 3
          },
          "opacity": 0.3,
          "type": "rect",
          "x0": 0.1,
          "x1": 1.1,
          "xref": "x",
          "y0": 6.875,
          "y1": 7.25,
          "yref": "y"
         },
         {
          "fillcolor": "grey",
          "line": {
           "color": "LightSeaGreen",
           "width": 3
          },
          "opacity": 0.3,
          "type": "rect",
          "x0": 0.1,
          "x1": 1.1,
          "xref": "x",
          "y0": 7.25,
          "y1": 7.625,
          "yref": "y"
         },
         {
          "fillcolor": "grey",
          "line": {
           "color": "LightSeaGreen",
           "width": 3
          },
          "opacity": 0.3,
          "type": "rect",
          "x0": 0.1,
          "x1": 1.1,
          "xref": "x",
          "y0": 7.625,
          "y1": 8,
          "yref": "y"
         },
         {
          "fillcolor": "grey",
          "line": {
           "color": "LightSeaGreen",
           "width": 3
          },
          "opacity": 0.3,
          "type": "rect",
          "x0": 0.1,
          "x1": 1.1,
          "xref": "x",
          "y0": 8,
          "y1": 8.375,
          "yref": "y"
         },
         {
          "fillcolor": "grey",
          "line": {
           "color": "LightSeaGreen",
           "width": 3
          },
          "opacity": 0.3,
          "type": "rect",
          "x0": 1.2,
          "x1": 2.2,
          "xref": "x",
          "y0": 5,
          "y1": 5.375,
          "yref": "y"
         },
         {
          "fillcolor": "grey",
          "line": {
           "color": "LightSeaGreen",
           "width": 3
          },
          "opacity": 0.3,
          "type": "rect",
          "x0": 1.2,
          "x1": 2.2,
          "xref": "x",
          "y0": 5.375,
          "y1": 5.75,
          "yref": "y"
         },
         {
          "fillcolor": "grey",
          "line": {
           "color": "LightSeaGreen",
           "width": 3
          },
          "opacity": 0.3,
          "type": "rect",
          "x0": 1.2,
          "x1": 2.2,
          "xref": "x",
          "y0": 5.75,
          "y1": 6.125,
          "yref": "y"
         },
         {
          "fillcolor": "grey",
          "line": {
           "color": "LightSeaGreen",
           "width": 3
          },
          "opacity": 0.3,
          "type": "rect",
          "x0": 1.2,
          "x1": 2.2,
          "xref": "x",
          "y0": 6.125,
          "y1": 6.5,
          "yref": "y"
         },
         {
          "fillcolor": "grey",
          "line": {
           "color": "LightSeaGreen",
           "width": 3
          },
          "opacity": 0.3,
          "type": "rect",
          "x0": 1.2,
          "x1": 2.2,
          "xref": "x",
          "y0": 6.5,
          "y1": 6.875,
          "yref": "y"
         },
         {
          "fillcolor": "grey",
          "line": {
           "color": "LightSeaGreen",
           "width": 3
          },
          "opacity": 0.3,
          "type": "rect",
          "x0": 1.2,
          "x1": 2.2,
          "xref": "x",
          "y0": 6.875,
          "y1": 7.25,
          "yref": "y"
         },
         {
          "fillcolor": "grey",
          "line": {
           "color": "LightSeaGreen",
           "width": 3
          },
          "opacity": 0.3,
          "type": "rect",
          "x0": 1.2,
          "x1": 2.2,
          "xref": "x",
          "y0": 7.25,
          "y1": 7.625,
          "yref": "y"
         },
         {
          "fillcolor": "grey",
          "line": {
           "color": "LightSeaGreen",
           "width": 3
          },
          "opacity": 0.3,
          "type": "rect",
          "x0": 1.2,
          "x1": 2.2,
          "xref": "x",
          "y0": 7.625,
          "y1": 8,
          "yref": "y"
         },
         {
          "fillcolor": "grey",
          "line": {
           "color": "LightSeaGreen",
           "width": 3
          },
          "opacity": 0.3,
          "type": "rect",
          "x0": 1.2,
          "x1": 2.2,
          "xref": "x",
          "y0": 8,
          "y1": 8.375,
          "yref": "y"
         },
         {
          "fillcolor": "grey",
          "line": {
           "color": "LightSeaGreen",
           "width": 3
          },
          "opacity": 0.3,
          "type": "rect",
          "x0": 2.3,
          "x1": 3.3,
          "xref": "x",
          "y0": 5,
          "y1": 5.375,
          "yref": "y"
         },
         {
          "fillcolor": "grey",
          "line": {
           "color": "LightSeaGreen",
           "width": 3
          },
          "opacity": 0.3,
          "type": "rect",
          "x0": 2.3,
          "x1": 3.3,
          "xref": "x",
          "y0": 5.375,
          "y1": 5.75,
          "yref": "y"
         },
         {
          "fillcolor": "grey",
          "line": {
           "color": "LightSeaGreen",
           "width": 3
          },
          "opacity": 0.3,
          "type": "rect",
          "x0": 2.3,
          "x1": 3.3,
          "xref": "x",
          "y0": 5.75,
          "y1": 6.125,
          "yref": "y"
         },
         {
          "fillcolor": "grey",
          "line": {
           "color": "LightSeaGreen",
           "width": 3
          },
          "opacity": 0.3,
          "type": "rect",
          "x0": 2.3,
          "x1": 3.3,
          "xref": "x",
          "y0": 6.125,
          "y1": 6.5,
          "yref": "y"
         },
         {
          "fillcolor": "grey",
          "line": {
           "color": "LightSeaGreen",
           "width": 3
          },
          "opacity": 0.3,
          "type": "rect",
          "x0": 2.3,
          "x1": 3.3,
          "xref": "x",
          "y0": 6.5,
          "y1": 6.875,
          "yref": "y"
         },
         {
          "fillcolor": "grey",
          "line": {
           "color": "LightSeaGreen",
           "width": 3
          },
          "opacity": 0.3,
          "type": "rect",
          "x0": 2.3,
          "x1": 3.3,
          "xref": "x",
          "y0": 6.875,
          "y1": 7.25,
          "yref": "y"
         },
         {
          "fillcolor": "grey",
          "line": {
           "color": "LightSeaGreen",
           "width": 3
          },
          "opacity": 0.3,
          "type": "rect",
          "x0": 2.3,
          "x1": 3.3,
          "xref": "x",
          "y0": 7.25,
          "y1": 7.625,
          "yref": "y"
         },
         {
          "fillcolor": "grey",
          "line": {
           "color": "LightSeaGreen",
           "width": 3
          },
          "opacity": 0.3,
          "type": "rect",
          "x0": 2.3,
          "x1": 3.3,
          "xref": "x",
          "y0": 7.625,
          "y1": 8,
          "yref": "y"
         },
         {
          "fillcolor": "grey",
          "line": {
           "color": "LightSeaGreen",
           "width": 3
          },
          "opacity": 0.3,
          "type": "rect",
          "x0": 2.3,
          "x1": 3.3,
          "xref": "x",
          "y0": 8,
          "y1": 8.375,
          "yref": "y"
         },
         {
          "fillcolor": "grey",
          "line": {
           "color": "LightSeaGreen",
           "width": 3
          },
          "opacity": 0.3,
          "type": "rect",
          "x0": 3.4,
          "x1": 4.4,
          "xref": "x",
          "y0": 5,
          "y1": 5.375,
          "yref": "y"
         },
         {
          "fillcolor": "grey",
          "line": {
           "color": "LightSeaGreen",
           "width": 3
          },
          "opacity": 0.3,
          "type": "rect",
          "x0": 3.4,
          "x1": 4.4,
          "xref": "x",
          "y0": 5.375,
          "y1": 5.75,
          "yref": "y"
         },
         {
          "fillcolor": "grey",
          "line": {
           "color": "LightSeaGreen",
           "width": 3
          },
          "opacity": 0.3,
          "type": "rect",
          "x0": 3.4,
          "x1": 4.4,
          "xref": "x",
          "y0": 5.75,
          "y1": 6.125,
          "yref": "y"
         },
         {
          "fillcolor": "grey",
          "line": {
           "color": "LightSeaGreen",
           "width": 3
          },
          "opacity": 0.3,
          "type": "rect",
          "x0": 3.4,
          "x1": 4.4,
          "xref": "x",
          "y0": 6.125,
          "y1": 6.5,
          "yref": "y"
         },
         {
          "fillcolor": "grey",
          "line": {
           "color": "LightSeaGreen",
           "width": 3
          },
          "opacity": 0.3,
          "type": "rect",
          "x0": 3.4,
          "x1": 4.4,
          "xref": "x",
          "y0": 6.5,
          "y1": 6.875,
          "yref": "y"
         },
         {
          "fillcolor": "grey",
          "line": {
           "color": "LightSeaGreen",
           "width": 3
          },
          "opacity": 0.3,
          "type": "rect",
          "x0": 3.4,
          "x1": 4.4,
          "xref": "x",
          "y0": 6.875,
          "y1": 7.25,
          "yref": "y"
         },
         {
          "fillcolor": "grey",
          "line": {
           "color": "LightSeaGreen",
           "width": 3
          },
          "opacity": 0.3,
          "type": "rect",
          "x0": 3.4,
          "x1": 4.4,
          "xref": "x",
          "y0": 7.25,
          "y1": 7.625,
          "yref": "y"
         },
         {
          "fillcolor": "grey",
          "line": {
           "color": "LightSeaGreen",
           "width": 3
          },
          "opacity": 0.3,
          "type": "rect",
          "x0": 3.4,
          "x1": 4.4,
          "xref": "x",
          "y0": 7.625,
          "y1": 8,
          "yref": "y"
         },
         {
          "fillcolor": "grey",
          "line": {
           "color": "LightSeaGreen",
           "width": 3
          },
          "opacity": 0.3,
          "type": "rect",
          "x0": 3.4,
          "x1": 4.4,
          "xref": "x",
          "y0": 8,
          "y1": 8.375,
          "yref": "y"
         },
         {
          "fillcolor": "grey",
          "line": {
           "color": "LightSeaGreen",
           "width": 3
          },
          "opacity": 0.3,
          "type": "rect",
          "x0": 4.5,
          "x1": 5.5,
          "xref": "x",
          "y0": 5,
          "y1": 5.375,
          "yref": "y"
         },
         {
          "fillcolor": "grey",
          "line": {
           "color": "LightSeaGreen",
           "width": 3
          },
          "opacity": 0.3,
          "type": "rect",
          "x0": 4.5,
          "x1": 5.5,
          "xref": "x",
          "y0": 5.375,
          "y1": 5.75,
          "yref": "y"
         },
         {
          "fillcolor": "grey",
          "line": {
           "color": "LightSeaGreen",
           "width": 3
          },
          "opacity": 0.3,
          "type": "rect",
          "x0": 4.5,
          "x1": 5.5,
          "xref": "x",
          "y0": 5.75,
          "y1": 6.125,
          "yref": "y"
         },
         {
          "fillcolor": "grey",
          "line": {
           "color": "LightSeaGreen",
           "width": 3
          },
          "opacity": 0.3,
          "type": "rect",
          "x0": 4.5,
          "x1": 5.5,
          "xref": "x",
          "y0": 6.125,
          "y1": 6.5,
          "yref": "y"
         },
         {
          "fillcolor": "grey",
          "line": {
           "color": "LightSeaGreen",
           "width": 3
          },
          "opacity": 0.3,
          "type": "rect",
          "x0": 4.5,
          "x1": 5.5,
          "xref": "x",
          "y0": 6.5,
          "y1": 6.875,
          "yref": "y"
         },
         {
          "fillcolor": "grey",
          "line": {
           "color": "LightSeaGreen",
           "width": 3
          },
          "opacity": 0.3,
          "type": "rect",
          "x0": 4.5,
          "x1": 5.5,
          "xref": "x",
          "y0": 6.875,
          "y1": 7.25,
          "yref": "y"
         },
         {
          "fillcolor": "grey",
          "line": {
           "color": "LightSeaGreen",
           "width": 3
          },
          "opacity": 0.3,
          "type": "rect",
          "x0": 4.5,
          "x1": 5.5,
          "xref": "x",
          "y0": 7.25,
          "y1": 7.625,
          "yref": "y"
         },
         {
          "fillcolor": "grey",
          "line": {
           "color": "LightSeaGreen",
           "width": 3
          },
          "opacity": 0.3,
          "type": "rect",
          "x0": 4.5,
          "x1": 5.5,
          "xref": "x",
          "y0": 7.625,
          "y1": 8,
          "yref": "y"
         },
         {
          "fillcolor": "grey",
          "line": {
           "color": "LightSeaGreen",
           "width": 3
          },
          "opacity": 0.3,
          "type": "rect",
          "x0": 4.5,
          "x1": 5.5,
          "xref": "x",
          "y0": 8,
          "y1": 8.375,
          "yref": "y"
         }
        ],
        "showlegend": false,
        "template": {
         "data": {
          "bar": [
           {
            "error_x": {
             "color": "#2a3f5f"
            },
            "error_y": {
             "color": "#2a3f5f"
            },
            "marker": {
             "line": {
              "color": "#E5ECF6",
              "width": 0.5
             }
            },
            "type": "bar"
           }
          ],
          "barpolar": [
           {
            "marker": {
             "line": {
              "color": "#E5ECF6",
              "width": 0.5
             }
            },
            "type": "barpolar"
           }
          ],
          "carpet": [
           {
            "aaxis": {
             "endlinecolor": "#2a3f5f",
             "gridcolor": "white",
             "linecolor": "white",
             "minorgridcolor": "white",
             "startlinecolor": "#2a3f5f"
            },
            "baxis": {
             "endlinecolor": "#2a3f5f",
             "gridcolor": "white",
             "linecolor": "white",
             "minorgridcolor": "white",
             "startlinecolor": "#2a3f5f"
            },
            "type": "carpet"
           }
          ],
          "choropleth": [
           {
            "colorbar": {
             "outlinewidth": 0,
             "ticks": ""
            },
            "type": "choropleth"
           }
          ],
          "contour": [
           {
            "colorbar": {
             "outlinewidth": 0,
             "ticks": ""
            },
            "colorscale": [
             [
              0,
              "#0d0887"
             ],
             [
              0.1111111111111111,
              "#46039f"
             ],
             [
              0.2222222222222222,
              "#7201a8"
             ],
             [
              0.3333333333333333,
              "#9c179e"
             ],
             [
              0.4444444444444444,
              "#bd3786"
             ],
             [
              0.5555555555555556,
              "#d8576b"
             ],
             [
              0.6666666666666666,
              "#ed7953"
             ],
             [
              0.7777777777777778,
              "#fb9f3a"
             ],
             [
              0.8888888888888888,
              "#fdca26"
             ],
             [
              1,
              "#f0f921"
             ]
            ],
            "type": "contour"
           }
          ],
          "contourcarpet": [
           {
            "colorbar": {
             "outlinewidth": 0,
             "ticks": ""
            },
            "type": "contourcarpet"
           }
          ],
          "heatmap": [
           {
            "colorbar": {
             "outlinewidth": 0,
             "ticks": ""
            },
            "colorscale": [
             [
              0,
              "#0d0887"
             ],
             [
              0.1111111111111111,
              "#46039f"
             ],
             [
              0.2222222222222222,
              "#7201a8"
             ],
             [
              0.3333333333333333,
              "#9c179e"
             ],
             [
              0.4444444444444444,
              "#bd3786"
             ],
             [
              0.5555555555555556,
              "#d8576b"
             ],
             [
              0.6666666666666666,
              "#ed7953"
             ],
             [
              0.7777777777777778,
              "#fb9f3a"
             ],
             [
              0.8888888888888888,
              "#fdca26"
             ],
             [
              1,
              "#f0f921"
             ]
            ],
            "type": "heatmap"
           }
          ],
          "heatmapgl": [
           {
            "colorbar": {
             "outlinewidth": 0,
             "ticks": ""
            },
            "colorscale": [
             [
              0,
              "#0d0887"
             ],
             [
              0.1111111111111111,
              "#46039f"
             ],
             [
              0.2222222222222222,
              "#7201a8"
             ],
             [
              0.3333333333333333,
              "#9c179e"
             ],
             [
              0.4444444444444444,
              "#bd3786"
             ],
             [
              0.5555555555555556,
              "#d8576b"
             ],
             [
              0.6666666666666666,
              "#ed7953"
             ],
             [
              0.7777777777777778,
              "#fb9f3a"
             ],
             [
              0.8888888888888888,
              "#fdca26"
             ],
             [
              1,
              "#f0f921"
             ]
            ],
            "type": "heatmapgl"
           }
          ],
          "histogram": [
           {
            "marker": {
             "colorbar": {
              "outlinewidth": 0,
              "ticks": ""
             }
            },
            "type": "histogram"
           }
          ],
          "histogram2d": [
           {
            "colorbar": {
             "outlinewidth": 0,
             "ticks": ""
            },
            "colorscale": [
             [
              0,
              "#0d0887"
             ],
             [
              0.1111111111111111,
              "#46039f"
             ],
             [
              0.2222222222222222,
              "#7201a8"
             ],
             [
              0.3333333333333333,
              "#9c179e"
             ],
             [
              0.4444444444444444,
              "#bd3786"
             ],
             [
              0.5555555555555556,
              "#d8576b"
             ],
             [
              0.6666666666666666,
              "#ed7953"
             ],
             [
              0.7777777777777778,
              "#fb9f3a"
             ],
             [
              0.8888888888888888,
              "#fdca26"
             ],
             [
              1,
              "#f0f921"
             ]
            ],
            "type": "histogram2d"
           }
          ],
          "histogram2dcontour": [
           {
            "colorbar": {
             "outlinewidth": 0,
             "ticks": ""
            },
            "colorscale": [
             [
              0,
              "#0d0887"
             ],
             [
              0.1111111111111111,
              "#46039f"
             ],
             [
              0.2222222222222222,
              "#7201a8"
             ],
             [
              0.3333333333333333,
              "#9c179e"
             ],
             [
              0.4444444444444444,
              "#bd3786"
             ],
             [
              0.5555555555555556,
              "#d8576b"
             ],
             [
              0.6666666666666666,
              "#ed7953"
             ],
             [
              0.7777777777777778,
              "#fb9f3a"
             ],
             [
              0.8888888888888888,
              "#fdca26"
             ],
             [
              1,
              "#f0f921"
             ]
            ],
            "type": "histogram2dcontour"
           }
          ],
          "mesh3d": [
           {
            "colorbar": {
             "outlinewidth": 0,
             "ticks": ""
            },
            "type": "mesh3d"
           }
          ],
          "parcoords": [
           {
            "line": {
             "colorbar": {
              "outlinewidth": 0,
              "ticks": ""
             }
            },
            "type": "parcoords"
           }
          ],
          "pie": [
           {
            "automargin": true,
            "type": "pie"
           }
          ],
          "scatter": [
           {
            "marker": {
             "colorbar": {
              "outlinewidth": 0,
              "ticks": ""
             }
            },
            "type": "scatter"
           }
          ],
          "scatter3d": [
           {
            "line": {
             "colorbar": {
              "outlinewidth": 0,
              "ticks": ""
             }
            },
            "marker": {
             "colorbar": {
              "outlinewidth": 0,
              "ticks": ""
             }
            },
            "type": "scatter3d"
           }
          ],
          "scattercarpet": [
           {
            "marker": {
             "colorbar": {
              "outlinewidth": 0,
              "ticks": ""
             }
            },
            "type": "scattercarpet"
           }
          ],
          "scattergeo": [
           {
            "marker": {
             "colorbar": {
              "outlinewidth": 0,
              "ticks": ""
             }
            },
            "type": "scattergeo"
           }
          ],
          "scattergl": [
           {
            "marker": {
             "colorbar": {
              "outlinewidth": 0,
              "ticks": ""
             }
            },
            "type": "scattergl"
           }
          ],
          "scattermapbox": [
           {
            "marker": {
             "colorbar": {
              "outlinewidth": 0,
              "ticks": ""
             }
            },
            "type": "scattermapbox"
           }
          ],
          "scatterpolar": [
           {
            "marker": {
             "colorbar": {
              "outlinewidth": 0,
              "ticks": ""
             }
            },
            "type": "scatterpolar"
           }
          ],
          "scatterpolargl": [
           {
            "marker": {
             "colorbar": {
              "outlinewidth": 0,
              "ticks": ""
             }
            },
            "type": "scatterpolargl"
           }
          ],
          "scatterternary": [
           {
            "marker": {
             "colorbar": {
              "outlinewidth": 0,
              "ticks": ""
             }
            },
            "type": "scatterternary"
           }
          ],
          "surface": [
           {
            "colorbar": {
             "outlinewidth": 0,
             "ticks": ""
            },
            "colorscale": [
             [
              0,
              "#0d0887"
             ],
             [
              0.1111111111111111,
              "#46039f"
             ],
             [
              0.2222222222222222,
              "#7201a8"
             ],
             [
              0.3333333333333333,
              "#9c179e"
             ],
             [
              0.4444444444444444,
              "#bd3786"
             ],
             [
              0.5555555555555556,
              "#d8576b"
             ],
             [
              0.6666666666666666,
              "#ed7953"
             ],
             [
              0.7777777777777778,
              "#fb9f3a"
             ],
             [
              0.8888888888888888,
              "#fdca26"
             ],
             [
              1,
              "#f0f921"
             ]
            ],
            "type": "surface"
           }
          ],
          "table": [
           {
            "cells": {
             "fill": {
              "color": "#EBF0F8"
             },
             "line": {
              "color": "white"
             }
            },
            "header": {
             "fill": {
              "color": "#C8D4E3"
             },
             "line": {
              "color": "white"
             }
            },
            "type": "table"
           }
          ]
         },
         "layout": {
          "annotationdefaults": {
           "arrowcolor": "#2a3f5f",
           "arrowhead": 0,
           "arrowwidth": 1
          },
          "autotypenumbers": "strict",
          "coloraxis": {
           "colorbar": {
            "outlinewidth": 0,
            "ticks": ""
           }
          },
          "colorscale": {
           "diverging": [
            [
             0,
             "#8e0152"
            ],
            [
             0.1,
             "#c51b7d"
            ],
            [
             0.2,
             "#de77ae"
            ],
            [
             0.3,
             "#f1b6da"
            ],
            [
             0.4,
             "#fde0ef"
            ],
            [
             0.5,
             "#f7f7f7"
            ],
            [
             0.6,
             "#e6f5d0"
            ],
            [
             0.7,
             "#b8e186"
            ],
            [
             0.8,
             "#7fbc41"
            ],
            [
             0.9,
             "#4d9221"
            ],
            [
             1,
             "#276419"
            ]
           ],
           "sequential": [
            [
             0,
             "#0d0887"
            ],
            [
             0.1111111111111111,
             "#46039f"
            ],
            [
             0.2222222222222222,
             "#7201a8"
            ],
            [
             0.3333333333333333,
             "#9c179e"
            ],
            [
             0.4444444444444444,
             "#bd3786"
            ],
            [
             0.5555555555555556,
             "#d8576b"
            ],
            [
             0.6666666666666666,
             "#ed7953"
            ],
            [
             0.7777777777777778,
             "#fb9f3a"
            ],
            [
             0.8888888888888888,
             "#fdca26"
            ],
            [
             1,
             "#f0f921"
            ]
           ],
           "sequentialminus": [
            [
             0,
             "#0d0887"
            ],
            [
             0.1111111111111111,
             "#46039f"
            ],
            [
             0.2222222222222222,
             "#7201a8"
            ],
            [
             0.3333333333333333,
             "#9c179e"
            ],
            [
             0.4444444444444444,
             "#bd3786"
            ],
            [
             0.5555555555555556,
             "#d8576b"
            ],
            [
             0.6666666666666666,
             "#ed7953"
            ],
            [
             0.7777777777777778,
             "#fb9f3a"
            ],
            [
             0.8888888888888888,
             "#fdca26"
            ],
            [
             1,
             "#f0f921"
            ]
           ]
          },
          "colorway": [
           "#636efa",
           "#EF553B",
           "#00cc96",
           "#ab63fa",
           "#FFA15A",
           "#19d3f3",
           "#FF6692",
           "#B6E880",
           "#FF97FF",
           "#FECB52"
          ],
          "font": {
           "color": "#2a3f5f"
          },
          "geo": {
           "bgcolor": "white",
           "lakecolor": "white",
           "landcolor": "#E5ECF6",
           "showlakes": true,
           "showland": true,
           "subunitcolor": "white"
          },
          "hoverlabel": {
           "align": "left"
          },
          "hovermode": "closest",
          "mapbox": {
           "style": "light"
          },
          "paper_bgcolor": "white",
          "plot_bgcolor": "#E5ECF6",
          "polar": {
           "angularaxis": {
            "gridcolor": "white",
            "linecolor": "white",
            "ticks": ""
           },
           "bgcolor": "#E5ECF6",
           "radialaxis": {
            "gridcolor": "white",
            "linecolor": "white",
            "ticks": ""
           }
          },
          "scene": {
           "xaxis": {
            "backgroundcolor": "#E5ECF6",
            "gridcolor": "white",
            "gridwidth": 2,
            "linecolor": "white",
            "showbackground": true,
            "ticks": "",
            "zerolinecolor": "white"
           },
           "yaxis": {
            "backgroundcolor": "#E5ECF6",
            "gridcolor": "white",
            "gridwidth": 2,
            "linecolor": "white",
            "showbackground": true,
            "ticks": "",
            "zerolinecolor": "white"
           },
           "zaxis": {
            "backgroundcolor": "#E5ECF6",
            "gridcolor": "white",
            "gridwidth": 2,
            "linecolor": "white",
            "showbackground": true,
            "ticks": "",
            "zerolinecolor": "white"
           }
          },
          "shapedefaults": {
           "line": {
            "color": "#2a3f5f"
           }
          },
          "ternary": {
           "aaxis": {
            "gridcolor": "white",
            "linecolor": "white",
            "ticks": ""
           },
           "baxis": {
            "gridcolor": "white",
            "linecolor": "white",
            "ticks": ""
           },
           "bgcolor": "#E5ECF6",
           "caxis": {
            "gridcolor": "white",
            "linecolor": "white",
            "ticks": ""
           }
          },
          "title": {
           "x": 0.05
          },
          "xaxis": {
           "automargin": true,
           "gridcolor": "white",
           "linecolor": "white",
           "ticks": "",
           "title": {
            "standoff": 15
           },
           "zerolinecolor": "white",
           "zerolinewidth": 2
          },
          "yaxis": {
           "automargin": true,
           "gridcolor": "white",
           "linecolor": "white",
           "ticks": "",
           "title": {
            "standoff": 15
           },
           "zerolinecolor": "white",
           "zerolinewidth": 2
          }
         }
        },
        "width": 800,
        "xaxis": {
         "showgrid": false,
         "showticklabels": false,
         "zeroline": false
        },
        "yaxis": {
         "showgrid": false,
         "showticklabels": false,
         "zeroline": false
        }
       }
      },
      "text/html": [
       "<div>                            <div id=\"d63362ff-450a-4d5d-9034-6550dec659da\" class=\"plotly-graph-div\" style=\"height:600px; width:800px;\"></div>            <script type=\"text/javascript\">                require([\"plotly\"], function(Plotly) {                    window.PLOTLYENV=window.PLOTLYENV || {};                                    if (document.getElementById(\"d63362ff-450a-4d5d-9034-6550dec659da\")) {                    Plotly.newPlot(                        \"d63362ff-450a-4d5d-9034-6550dec659da\",                        [{\"mode\": \"text\", \"text\": \"11:00 \", \"textposition\": \"bottom right\", \"type\": \"scatter\", \"x\": [0.2], \"y\": [0.1875]}, {\"mode\": \"text\", \"text\": \"12:00 \", \"textposition\": \"bottom right\", \"type\": \"scatter\", \"x\": [0.2], \"y\": [0.5625]}, {\"mode\": \"text\", \"text\": \"13:00 \", \"textposition\": \"bottom right\", \"type\": \"scatter\", \"x\": [0.2], \"y\": [0.9375]}, {\"mode\": \"text\", \"text\": \"14:00 \", \"textposition\": \"bottom right\", \"type\": \"scatter\", \"x\": [0.2], \"y\": [1.3125]}, {\"mode\": \"text\", \"text\": \"15:00 Barber\", \"textposition\": \"bottom right\", \"type\": \"scatter\", \"x\": [0.2], \"y\": [1.6875]}, {\"mode\": \"text\", \"text\": \"16:00 Barber\", \"textposition\": \"bottom right\", \"type\": \"scatter\", \"x\": [0.2], \"y\": [2.0625]}, {\"mode\": \"text\", \"text\": \"17:00 \", \"textposition\": \"bottom right\", \"type\": \"scatter\", \"x\": [0.2], \"y\": [2.4375]}, {\"mode\": \"text\", \"text\": \"18:00 \", \"textposition\": \"bottom right\", \"type\": \"scatter\", \"x\": [0.2], \"y\": [2.8125]}, {\"mode\": \"text\", \"text\": \"19:00 \", \"textposition\": \"bottom right\", \"type\": \"scatter\", \"x\": [0.2], \"y\": [3.1875]}, {\"mode\": \"text\", \"text\": \"Monday\", \"textposition\": \"bottom center\", \"type\": \"scatter\", \"x\": [0.30000000000000004], \"y\": [3.6]}, {\"mode\": \"text\", \"text\": \"11:00 \", \"textposition\": \"bottom right\", \"type\": \"scatter\", \"x\": [1.3], \"y\": [0.1875]}, {\"mode\": \"text\", \"text\": \"12:00 \", \"textposition\": \"bottom right\", \"type\": \"scatter\", \"x\": [1.3], \"y\": [0.5625]}, {\"mode\": \"text\", \"text\": \"13:00 \", \"textposition\": \"bottom right\", \"type\": \"scatter\", \"x\": [1.3], \"y\": [0.9375]}, {\"mode\": \"text\", \"text\": \"14:00 \", \"textposition\": \"bottom right\", \"type\": \"scatter\", \"x\": [1.3], \"y\": [1.3125]}, {\"mode\": \"text\", \"text\": \"15:00 \", \"textposition\": \"bottom right\", \"type\": \"scatter\", \"x\": [1.3], \"y\": [1.6875]}, {\"mode\": \"text\", \"text\": \"16:00 \", \"textposition\": \"bottom right\", \"type\": \"scatter\", \"x\": [1.3], \"y\": [2.0625]}, {\"mode\": \"text\", \"text\": \"17:00 \", \"textposition\": \"bottom right\", \"type\": \"scatter\", \"x\": [1.3], \"y\": [2.4375]}, {\"mode\": \"text\", \"text\": \"18:00 \", \"textposition\": \"bottom right\", \"type\": \"scatter\", \"x\": [1.3], \"y\": [2.8125]}, {\"mode\": \"text\", \"text\": \"19:00 \", \"textposition\": \"bottom right\", \"type\": \"scatter\", \"x\": [1.3], \"y\": [3.1875]}, {\"mode\": \"text\", \"text\": \"Tuesday\", \"textposition\": \"bottom center\", \"type\": \"scatter\", \"x\": [1.4], \"y\": [3.6]}, {\"mode\": \"text\", \"text\": \"11:00 \", \"textposition\": \"bottom right\", \"type\": \"scatter\", \"x\": [2.4], \"y\": [0.1875]}, {\"mode\": \"text\", \"text\": \"12:00 \", \"textposition\": \"bottom right\", \"type\": \"scatter\", \"x\": [2.4], \"y\": [0.5625]}, {\"mode\": \"text\", \"text\": \"13:00 \", \"textposition\": \"bottom right\", \"type\": \"scatter\", \"x\": [2.4], \"y\": [0.9375]}, {\"mode\": \"text\", \"text\": \"14:00 \", \"textposition\": \"bottom right\", \"type\": \"scatter\", \"x\": [2.4], \"y\": [1.3125]}, {\"mode\": \"text\", \"text\": \"15:00 \", \"textposition\": \"bottom right\", \"type\": \"scatter\", \"x\": [2.4], \"y\": [1.6875]}, {\"mode\": \"text\", \"text\": \"16:00 \", \"textposition\": \"bottom right\", \"type\": \"scatter\", \"x\": [2.4], \"y\": [2.0625]}, {\"mode\": \"text\", \"text\": \"17:00 \", \"textposition\": \"bottom right\", \"type\": \"scatter\", \"x\": [2.4], \"y\": [2.4375]}, {\"mode\": \"text\", \"text\": \"18:00 \", \"textposition\": \"bottom right\", \"type\": \"scatter\", \"x\": [2.4], \"y\": [2.8125]}, {\"mode\": \"text\", \"text\": \"19:00 \", \"textposition\": \"bottom right\", \"type\": \"scatter\", \"x\": [2.4], \"y\": [3.1875]}, {\"mode\": \"text\", \"text\": \"Wednesday\", \"textposition\": \"bottom center\", \"type\": \"scatter\", \"x\": [2.5], \"y\": [3.6]}, {\"mode\": \"text\", \"text\": \"11:00 \", \"textposition\": \"bottom right\", \"type\": \"scatter\", \"x\": [3.5], \"y\": [0.1875]}, {\"mode\": \"text\", \"text\": \"12:00 \", \"textposition\": \"bottom right\", \"type\": \"scatter\", \"x\": [3.5], \"y\": [0.5625]}, {\"mode\": \"text\", \"text\": \"13:00 \", \"textposition\": \"bottom right\", \"type\": \"scatter\", \"x\": [3.5], \"y\": [0.9375]}, {\"mode\": \"text\", \"text\": \"14:00 \", \"textposition\": \"bottom right\", \"type\": \"scatter\", \"x\": [3.5], \"y\": [1.3125]}, {\"mode\": \"text\", \"text\": \"15:00 \", \"textposition\": \"bottom right\", \"type\": \"scatter\", \"x\": [3.5], \"y\": [1.6875]}, {\"mode\": \"text\", \"text\": \"16:00 \", \"textposition\": \"bottom right\", \"type\": \"scatter\", \"x\": [3.5], \"y\": [2.0625]}, {\"mode\": \"text\", \"text\": \"17:00 \", \"textposition\": \"bottom right\", \"type\": \"scatter\", \"x\": [3.5], \"y\": [2.4375]}, {\"mode\": \"text\", \"text\": \"18:00 \", \"textposition\": \"bottom right\", \"type\": \"scatter\", \"x\": [3.5], \"y\": [2.8125]}, {\"mode\": \"text\", \"text\": \"19:00 \", \"textposition\": \"bottom right\", \"type\": \"scatter\", \"x\": [3.5], \"y\": [3.1875]}, {\"mode\": \"text\", \"text\": \"Thursday\", \"textposition\": \"bottom center\", \"type\": \"scatter\", \"x\": [3.6], \"y\": [3.6]}, {\"mode\": \"text\", \"text\": \"11:00 \", \"textposition\": \"bottom right\", \"type\": \"scatter\", \"x\": [4.6], \"y\": [0.1875]}, {\"mode\": \"text\", \"text\": \"12:00 \", \"textposition\": \"bottom right\", \"type\": \"scatter\", \"x\": [4.6], \"y\": [0.5625]}, {\"mode\": \"text\", \"text\": \"13:00 \", \"textposition\": \"bottom right\", \"type\": \"scatter\", \"x\": [4.6], \"y\": [0.9375]}, {\"mode\": \"text\", \"text\": \"14:00 \", \"textposition\": \"bottom right\", \"type\": \"scatter\", \"x\": [4.6], \"y\": [1.3125]}, {\"mode\": \"text\", \"text\": \"15:00 \", \"textposition\": \"bottom right\", \"type\": \"scatter\", \"x\": [4.6], \"y\": [1.6875]}, {\"mode\": \"text\", \"text\": \"16:00 \", \"textposition\": \"bottom right\", \"type\": \"scatter\", \"x\": [4.6], \"y\": [2.0625]}, {\"mode\": \"text\", \"text\": \"17:00 \", \"textposition\": \"bottom right\", \"type\": \"scatter\", \"x\": [4.6], \"y\": [2.4375]}, {\"mode\": \"text\", \"text\": \"18:00 \", \"textposition\": \"bottom right\", \"type\": \"scatter\", \"x\": [4.6], \"y\": [2.8125]}, {\"mode\": \"text\", \"text\": \"19:00 \", \"textposition\": \"bottom right\", \"type\": \"scatter\", \"x\": [4.6], \"y\": [3.1875]}, {\"mode\": \"text\", \"text\": \"Friday\", \"textposition\": \"bottom center\", \"type\": \"scatter\", \"x\": [4.7], \"y\": [3.6]}, {\"mode\": \"text\", \"text\": \"11:00 \", \"textposition\": \"bottom right\", \"type\": \"scatter\", \"x\": [0.2], \"y\": [5.1875]}, {\"mode\": \"text\", \"text\": \"12:00 \", \"textposition\": \"bottom right\", \"type\": \"scatter\", \"x\": [0.2], \"y\": [5.5625]}, {\"mode\": \"text\", \"text\": \"13:00 \", \"textposition\": \"bottom right\", \"type\": \"scatter\", \"x\": [0.2], \"y\": [5.9375]}, {\"mode\": \"text\", \"text\": \"14:00 \", \"textposition\": \"bottom right\", \"type\": \"scatter\", \"x\": [0.2], \"y\": [6.3125]}, {\"mode\": \"text\", \"text\": \"15:00 Barber\", \"textposition\": \"bottom right\", \"type\": \"scatter\", \"x\": [0.2], \"y\": [6.6875]}, {\"mode\": \"text\", \"text\": \"16:00 Barber\", \"textposition\": \"bottom right\", \"type\": \"scatter\", \"x\": [0.2], \"y\": [7.0625]}, {\"mode\": \"text\", \"text\": \"17:00 \", \"textposition\": \"bottom right\", \"type\": \"scatter\", \"x\": [0.2], \"y\": [7.4375]}, {\"mode\": \"text\", \"text\": \"18:00 \", \"textposition\": \"bottom right\", \"type\": \"scatter\", \"x\": [0.2], \"y\": [7.8125]}, {\"mode\": \"text\", \"text\": \"19:00 \", \"textposition\": \"bottom right\", \"type\": \"scatter\", \"x\": [0.2], \"y\": [8.1875]}, {\"mode\": \"text\", \"text\": \"Monday\", \"textposition\": \"bottom center\", \"type\": \"scatter\", \"x\": [0.30000000000000004], \"y\": [8.6]}, {\"mode\": \"text\", \"text\": \"11:00 \", \"textposition\": \"bottom right\", \"type\": \"scatter\", \"x\": [1.3], \"y\": [5.1875]}, {\"mode\": \"text\", \"text\": \"12:00 \", \"textposition\": \"bottom right\", \"type\": \"scatter\", \"x\": [1.3], \"y\": [5.5625]}, {\"mode\": \"text\", \"text\": \"13:00 \", \"textposition\": \"bottom right\", \"type\": \"scatter\", \"x\": [1.3], \"y\": [5.9375]}, {\"mode\": \"text\", \"text\": \"14:00 \", \"textposition\": \"bottom right\", \"type\": \"scatter\", \"x\": [1.3], \"y\": [6.3125]}, {\"mode\": \"text\", \"text\": \"15:00 \", \"textposition\": \"bottom right\", \"type\": \"scatter\", \"x\": [1.3], \"y\": [6.6875]}, {\"mode\": \"text\", \"text\": \"16:00 \", \"textposition\": \"bottom right\", \"type\": \"scatter\", \"x\": [1.3], \"y\": [7.0625]}, {\"mode\": \"text\", \"text\": \"17:00 \", \"textposition\": \"bottom right\", \"type\": \"scatter\", \"x\": [1.3], \"y\": [7.4375]}, {\"mode\": \"text\", \"text\": \"18:00 \", \"textposition\": \"bottom right\", \"type\": \"scatter\", \"x\": [1.3], \"y\": [7.8125]}, {\"mode\": \"text\", \"text\": \"19:00 \", \"textposition\": \"bottom right\", \"type\": \"scatter\", \"x\": [1.3], \"y\": [8.1875]}, {\"mode\": \"text\", \"text\": \"Tuesday\", \"textposition\": \"bottom center\", \"type\": \"scatter\", \"x\": [1.4], \"y\": [8.6]}, {\"mode\": \"text\", \"text\": \"11:00 \", \"textposition\": \"bottom right\", \"type\": \"scatter\", \"x\": [2.4], \"y\": [5.1875]}, {\"mode\": \"text\", \"text\": \"12:00 \", \"textposition\": \"bottom right\", \"type\": \"scatter\", \"x\": [2.4], \"y\": [5.5625]}, {\"mode\": \"text\", \"text\": \"13:00 \", \"textposition\": \"bottom right\", \"type\": \"scatter\", \"x\": [2.4], \"y\": [5.9375]}, {\"mode\": \"text\", \"text\": \"14:00 \", \"textposition\": \"bottom right\", \"type\": \"scatter\", \"x\": [2.4], \"y\": [6.3125]}, {\"mode\": \"text\", \"text\": \"15:00 \", \"textposition\": \"bottom right\", \"type\": \"scatter\", \"x\": [2.4], \"y\": [6.6875]}, {\"mode\": \"text\", \"text\": \"16:00 \", \"textposition\": \"bottom right\", \"type\": \"scatter\", \"x\": [2.4], \"y\": [7.0625]}, {\"mode\": \"text\", \"text\": \"17:00 \", \"textposition\": \"bottom right\", \"type\": \"scatter\", \"x\": [2.4], \"y\": [7.4375]}, {\"mode\": \"text\", \"text\": \"18:00 \", \"textposition\": \"bottom right\", \"type\": \"scatter\", \"x\": [2.4], \"y\": [7.8125]}, {\"mode\": \"text\", \"text\": \"19:00 \", \"textposition\": \"bottom right\", \"type\": \"scatter\", \"x\": [2.4], \"y\": [8.1875]}, {\"mode\": \"text\", \"text\": \"Wednesday\", \"textposition\": \"bottom center\", \"type\": \"scatter\", \"x\": [2.5], \"y\": [8.6]}, {\"mode\": \"text\", \"text\": \"11:00 \", \"textposition\": \"bottom right\", \"type\": \"scatter\", \"x\": [3.5], \"y\": [5.1875]}, {\"mode\": \"text\", \"text\": \"12:00 \", \"textposition\": \"bottom right\", \"type\": \"scatter\", \"x\": [3.5], \"y\": [5.5625]}, {\"mode\": \"text\", \"text\": \"13:00 \", \"textposition\": \"bottom right\", \"type\": \"scatter\", \"x\": [3.5], \"y\": [5.9375]}, {\"mode\": \"text\", \"text\": \"14:00 \", \"textposition\": \"bottom right\", \"type\": \"scatter\", \"x\": [3.5], \"y\": [6.3125]}, {\"mode\": \"text\", \"text\": \"15:00 \", \"textposition\": \"bottom right\", \"type\": \"scatter\", \"x\": [3.5], \"y\": [6.6875]}, {\"mode\": \"text\", \"text\": \"16:00 \", \"textposition\": \"bottom right\", \"type\": \"scatter\", \"x\": [3.5], \"y\": [7.0625]}, {\"mode\": \"text\", \"text\": \"17:00 \", \"textposition\": \"bottom right\", \"type\": \"scatter\", \"x\": [3.5], \"y\": [7.4375]}, {\"mode\": \"text\", \"text\": \"18:00 \", \"textposition\": \"bottom right\", \"type\": \"scatter\", \"x\": [3.5], \"y\": [7.8125]}, {\"mode\": \"text\", \"text\": \"19:00 \", \"textposition\": \"bottom right\", \"type\": \"scatter\", \"x\": [3.5], \"y\": [8.1875]}, {\"mode\": \"text\", \"text\": \"Thursday\", \"textposition\": \"bottom center\", \"type\": \"scatter\", \"x\": [3.6], \"y\": [8.6]}, {\"mode\": \"text\", \"text\": \"11:00 \", \"textposition\": \"bottom right\", \"type\": \"scatter\", \"x\": [4.6], \"y\": [5.1875]}, {\"mode\": \"text\", \"text\": \"12:00 \", \"textposition\": \"bottom right\", \"type\": \"scatter\", \"x\": [4.6], \"y\": [5.5625]}, {\"mode\": \"text\", \"text\": \"13:00 \", \"textposition\": \"bottom right\", \"type\": \"scatter\", \"x\": [4.6], \"y\": [5.9375]}, {\"mode\": \"text\", \"text\": \"14:00 \", \"textposition\": \"bottom right\", \"type\": \"scatter\", \"x\": [4.6], \"y\": [6.3125]}, {\"mode\": \"text\", \"text\": \"15:00 \", \"textposition\": \"bottom right\", \"type\": \"scatter\", \"x\": [4.6], \"y\": [6.6875]}, {\"mode\": \"text\", \"text\": \"16:00 \", \"textposition\": \"bottom right\", \"type\": \"scatter\", \"x\": [4.6], \"y\": [7.0625]}, {\"mode\": \"text\", \"text\": \"17:00 \", \"textposition\": \"bottom right\", \"type\": \"scatter\", \"x\": [4.6], \"y\": [7.4375]}, {\"mode\": \"text\", \"text\": \"18:00 \", \"textposition\": \"bottom right\", \"type\": \"scatter\", \"x\": [4.6], \"y\": [7.8125]}, {\"mode\": \"text\", \"text\": \"19:00 \", \"textposition\": \"bottom right\", \"type\": \"scatter\", \"x\": [4.6], \"y\": [8.1875]}, {\"mode\": \"text\", \"text\": \"Friday\", \"textposition\": \"bottom center\", \"type\": \"scatter\", \"x\": [4.7], \"y\": [8.6]}],                        {\"font\": {\"size\": 9}, \"height\": 600, \"margin\": {\"b\": 100, \"l\": 20, \"r\": 20}, \"plot_bgcolor\": \"white\", \"shapes\": [{\"fillcolor\": \"grey\", \"line\": {\"color\": \"LightSeaGreen\", \"width\": 3}, \"opacity\": 0.3, \"type\": \"rect\", \"x0\": 0.1, \"x1\": 1.1, \"xref\": \"x\", \"y0\": 0.0, \"y1\": 0.375, \"yref\": \"y\"}, {\"fillcolor\": \"grey\", \"line\": {\"color\": \"LightSeaGreen\", \"width\": 3}, \"opacity\": 0.3, \"type\": \"rect\", \"x0\": 0.1, \"x1\": 1.1, \"xref\": \"x\", \"y0\": 0.375, \"y1\": 0.75, \"yref\": \"y\"}, {\"fillcolor\": \"grey\", \"line\": {\"color\": \"LightSeaGreen\", \"width\": 3}, \"opacity\": 0.3, \"type\": \"rect\", \"x0\": 0.1, \"x1\": 1.1, \"xref\": \"x\", \"y0\": 0.75, \"y1\": 1.125, \"yref\": \"y\"}, {\"fillcolor\": \"grey\", \"line\": {\"color\": \"LightSeaGreen\", \"width\": 3}, \"opacity\": 0.3, \"type\": \"rect\", \"x0\": 0.1, \"x1\": 1.1, \"xref\": \"x\", \"y0\": 1.125, \"y1\": 1.5, \"yref\": \"y\"}, {\"fillcolor\": \"blue\", \"line\": {\"color\": \"LightSeaGreen\", \"width\": 3}, \"opacity\": 0.3, \"type\": \"rect\", \"x0\": 0.1, \"x1\": 1.1, \"xref\": \"x\", \"y0\": 1.5, \"y1\": 1.875, \"yref\": \"y\"}, {\"fillcolor\": \"blue\", \"line\": {\"color\": \"LightSeaGreen\", \"width\": 3}, \"opacity\": 0.3, \"type\": \"rect\", \"x0\": 0.1, \"x1\": 1.1, \"xref\": \"x\", \"y0\": 1.875, \"y1\": 2.25, \"yref\": \"y\"}, {\"fillcolor\": \"grey\", \"line\": {\"color\": \"LightSeaGreen\", \"width\": 3}, \"opacity\": 0.3, \"type\": \"rect\", \"x0\": 0.1, \"x1\": 1.1, \"xref\": \"x\", \"y0\": 2.25, \"y1\": 2.625, \"yref\": \"y\"}, {\"fillcolor\": \"grey\", \"line\": {\"color\": \"LightSeaGreen\", \"width\": 3}, \"opacity\": 0.3, \"type\": \"rect\", \"x0\": 0.1, \"x1\": 1.1, \"xref\": \"x\", \"y0\": 2.625, \"y1\": 3.0, \"yref\": \"y\"}, {\"fillcolor\": \"grey\", \"line\": {\"color\": \"LightSeaGreen\", \"width\": 3}, \"opacity\": 0.3, \"type\": \"rect\", \"x0\": 0.1, \"x1\": 1.1, \"xref\": \"x\", \"y0\": 3.0, \"y1\": 3.375, \"yref\": \"y\"}, {\"fillcolor\": \"grey\", \"line\": {\"color\": \"LightSeaGreen\", \"width\": 3}, \"opacity\": 0.3, \"type\": \"rect\", \"x0\": 1.2, \"x1\": 2.2, \"xref\": \"x\", \"y0\": 0.0, \"y1\": 0.375, \"yref\": \"y\"}, {\"fillcolor\": \"grey\", \"line\": {\"color\": \"LightSeaGreen\", \"width\": 3}, \"opacity\": 0.3, \"type\": \"rect\", \"x0\": 1.2, \"x1\": 2.2, \"xref\": \"x\", \"y0\": 0.375, \"y1\": 0.75, \"yref\": \"y\"}, {\"fillcolor\": \"grey\", \"line\": {\"color\": \"LightSeaGreen\", \"width\": 3}, \"opacity\": 0.3, \"type\": \"rect\", \"x0\": 1.2, \"x1\": 2.2, \"xref\": \"x\", \"y0\": 0.75, \"y1\": 1.125, \"yref\": \"y\"}, {\"fillcolor\": \"grey\", \"line\": {\"color\": \"LightSeaGreen\", \"width\": 3}, \"opacity\": 0.3, \"type\": \"rect\", \"x0\": 1.2, \"x1\": 2.2, \"xref\": \"x\", \"y0\": 1.125, \"y1\": 1.5, \"yref\": \"y\"}, {\"fillcolor\": \"grey\", \"line\": {\"color\": \"LightSeaGreen\", \"width\": 3}, \"opacity\": 0.3, \"type\": \"rect\", \"x0\": 1.2, \"x1\": 2.2, \"xref\": \"x\", \"y0\": 1.5, \"y1\": 1.875, \"yref\": \"y\"}, {\"fillcolor\": \"grey\", \"line\": {\"color\": \"LightSeaGreen\", \"width\": 3}, \"opacity\": 0.3, \"type\": \"rect\", \"x0\": 1.2, \"x1\": 2.2, \"xref\": \"x\", \"y0\": 1.875, \"y1\": 2.25, \"yref\": \"y\"}, {\"fillcolor\": \"grey\", \"line\": {\"color\": \"LightSeaGreen\", \"width\": 3}, \"opacity\": 0.3, \"type\": \"rect\", \"x0\": 1.2, \"x1\": 2.2, \"xref\": \"x\", \"y0\": 2.25, \"y1\": 2.625, \"yref\": \"y\"}, {\"fillcolor\": \"grey\", \"line\": {\"color\": \"LightSeaGreen\", \"width\": 3}, \"opacity\": 0.3, \"type\": \"rect\", \"x0\": 1.2, \"x1\": 2.2, \"xref\": \"x\", \"y0\": 2.625, \"y1\": 3.0, \"yref\": \"y\"}, {\"fillcolor\": \"grey\", \"line\": {\"color\": \"LightSeaGreen\", \"width\": 3}, \"opacity\": 0.3, \"type\": \"rect\", \"x0\": 1.2, \"x1\": 2.2, \"xref\": \"x\", \"y0\": 3.0, \"y1\": 3.375, \"yref\": \"y\"}, {\"fillcolor\": \"grey\", \"line\": {\"color\": \"LightSeaGreen\", \"width\": 3}, \"opacity\": 0.3, \"type\": \"rect\", \"x0\": 2.3, \"x1\": 3.3, \"xref\": \"x\", \"y0\": 0.0, \"y1\": 0.375, \"yref\": \"y\"}, {\"fillcolor\": \"grey\", \"line\": {\"color\": \"LightSeaGreen\", \"width\": 3}, \"opacity\": 0.3, \"type\": \"rect\", \"x0\": 2.3, \"x1\": 3.3, \"xref\": \"x\", \"y0\": 0.375, \"y1\": 0.75, \"yref\": \"y\"}, {\"fillcolor\": \"grey\", \"line\": {\"color\": \"LightSeaGreen\", \"width\": 3}, \"opacity\": 0.3, \"type\": \"rect\", \"x0\": 2.3, \"x1\": 3.3, \"xref\": \"x\", \"y0\": 0.75, \"y1\": 1.125, \"yref\": \"y\"}, {\"fillcolor\": \"grey\", \"line\": {\"color\": \"LightSeaGreen\", \"width\": 3}, \"opacity\": 0.3, \"type\": \"rect\", \"x0\": 2.3, \"x1\": 3.3, \"xref\": \"x\", \"y0\": 1.125, \"y1\": 1.5, \"yref\": \"y\"}, {\"fillcolor\": \"grey\", \"line\": {\"color\": \"LightSeaGreen\", \"width\": 3}, \"opacity\": 0.3, \"type\": \"rect\", \"x0\": 2.3, \"x1\": 3.3, \"xref\": \"x\", \"y0\": 1.5, \"y1\": 1.875, \"yref\": \"y\"}, {\"fillcolor\": \"grey\", \"line\": {\"color\": \"LightSeaGreen\", \"width\": 3}, \"opacity\": 0.3, \"type\": \"rect\", \"x0\": 2.3, \"x1\": 3.3, \"xref\": \"x\", \"y0\": 1.875, \"y1\": 2.25, \"yref\": \"y\"}, {\"fillcolor\": \"grey\", \"line\": {\"color\": \"LightSeaGreen\", \"width\": 3}, \"opacity\": 0.3, \"type\": \"rect\", \"x0\": 2.3, \"x1\": 3.3, \"xref\": \"x\", \"y0\": 2.25, \"y1\": 2.625, \"yref\": \"y\"}, {\"fillcolor\": \"grey\", \"line\": {\"color\": \"LightSeaGreen\", \"width\": 3}, \"opacity\": 0.3, \"type\": \"rect\", \"x0\": 2.3, \"x1\": 3.3, \"xref\": \"x\", \"y0\": 2.625, \"y1\": 3.0, \"yref\": \"y\"}, {\"fillcolor\": \"grey\", \"line\": {\"color\": \"LightSeaGreen\", \"width\": 3}, \"opacity\": 0.3, \"type\": \"rect\", \"x0\": 2.3, \"x1\": 3.3, \"xref\": \"x\", \"y0\": 3.0, \"y1\": 3.375, \"yref\": \"y\"}, {\"fillcolor\": \"grey\", \"line\": {\"color\": \"LightSeaGreen\", \"width\": 3}, \"opacity\": 0.3, \"type\": \"rect\", \"x0\": 3.4, \"x1\": 4.4, \"xref\": \"x\", \"y0\": 0.0, \"y1\": 0.375, \"yref\": \"y\"}, {\"fillcolor\": \"grey\", \"line\": {\"color\": \"LightSeaGreen\", \"width\": 3}, \"opacity\": 0.3, \"type\": \"rect\", \"x0\": 3.4, \"x1\": 4.4, \"xref\": \"x\", \"y0\": 0.375, \"y1\": 0.75, \"yref\": \"y\"}, {\"fillcolor\": \"grey\", \"line\": {\"color\": \"LightSeaGreen\", \"width\": 3}, \"opacity\": 0.3, \"type\": \"rect\", \"x0\": 3.4, \"x1\": 4.4, \"xref\": \"x\", \"y0\": 0.75, \"y1\": 1.125, \"yref\": \"y\"}, {\"fillcolor\": \"grey\", \"line\": {\"color\": \"LightSeaGreen\", \"width\": 3}, \"opacity\": 0.3, \"type\": \"rect\", \"x0\": 3.4, \"x1\": 4.4, \"xref\": \"x\", \"y0\": 1.125, \"y1\": 1.5, \"yref\": \"y\"}, {\"fillcolor\": \"grey\", \"line\": {\"color\": \"LightSeaGreen\", \"width\": 3}, \"opacity\": 0.3, \"type\": \"rect\", \"x0\": 3.4, \"x1\": 4.4, \"xref\": \"x\", \"y0\": 1.5, \"y1\": 1.875, \"yref\": \"y\"}, {\"fillcolor\": \"grey\", \"line\": {\"color\": \"LightSeaGreen\", \"width\": 3}, \"opacity\": 0.3, \"type\": \"rect\", \"x0\": 3.4, \"x1\": 4.4, \"xref\": \"x\", \"y0\": 1.875, \"y1\": 2.25, \"yref\": \"y\"}, {\"fillcolor\": \"grey\", \"line\": {\"color\": \"LightSeaGreen\", \"width\": 3}, \"opacity\": 0.3, \"type\": \"rect\", \"x0\": 3.4, \"x1\": 4.4, \"xref\": \"x\", \"y0\": 2.25, \"y1\": 2.625, \"yref\": \"y\"}, {\"fillcolor\": \"grey\", \"line\": {\"color\": \"LightSeaGreen\", \"width\": 3}, \"opacity\": 0.3, \"type\": \"rect\", \"x0\": 3.4, \"x1\": 4.4, \"xref\": \"x\", \"y0\": 2.625, \"y1\": 3.0, \"yref\": \"y\"}, {\"fillcolor\": \"grey\", \"line\": {\"color\": \"LightSeaGreen\", \"width\": 3}, \"opacity\": 0.3, \"type\": \"rect\", \"x0\": 3.4, \"x1\": 4.4, \"xref\": \"x\", \"y0\": 3.0, \"y1\": 3.375, \"yref\": \"y\"}, {\"fillcolor\": \"grey\", \"line\": {\"color\": \"LightSeaGreen\", \"width\": 3}, \"opacity\": 0.3, \"type\": \"rect\", \"x0\": 4.5, \"x1\": 5.5, \"xref\": \"x\", \"y0\": 0.0, \"y1\": 0.375, \"yref\": \"y\"}, {\"fillcolor\": \"grey\", \"line\": {\"color\": \"LightSeaGreen\", \"width\": 3}, \"opacity\": 0.3, \"type\": \"rect\", \"x0\": 4.5, \"x1\": 5.5, \"xref\": \"x\", \"y0\": 0.375, \"y1\": 0.75, \"yref\": \"y\"}, {\"fillcolor\": \"grey\", \"line\": {\"color\": \"LightSeaGreen\", \"width\": 3}, \"opacity\": 0.3, \"type\": \"rect\", \"x0\": 4.5, \"x1\": 5.5, \"xref\": \"x\", \"y0\": 0.75, \"y1\": 1.125, \"yref\": \"y\"}, {\"fillcolor\": \"grey\", \"line\": {\"color\": \"LightSeaGreen\", \"width\": 3}, \"opacity\": 0.3, \"type\": \"rect\", \"x0\": 4.5, \"x1\": 5.5, \"xref\": \"x\", \"y0\": 1.125, \"y1\": 1.5, \"yref\": \"y\"}, {\"fillcolor\": \"grey\", \"line\": {\"color\": \"LightSeaGreen\", \"width\": 3}, \"opacity\": 0.3, \"type\": \"rect\", \"x0\": 4.5, \"x1\": 5.5, \"xref\": \"x\", \"y0\": 1.5, \"y1\": 1.875, \"yref\": \"y\"}, {\"fillcolor\": \"grey\", \"line\": {\"color\": \"LightSeaGreen\", \"width\": 3}, \"opacity\": 0.3, \"type\": \"rect\", \"x0\": 4.5, \"x1\": 5.5, \"xref\": \"x\", \"y0\": 1.875, \"y1\": 2.25, \"yref\": \"y\"}, {\"fillcolor\": \"grey\", \"line\": {\"color\": \"LightSeaGreen\", \"width\": 3}, \"opacity\": 0.3, \"type\": \"rect\", \"x0\": 4.5, \"x1\": 5.5, \"xref\": \"x\", \"y0\": 2.25, \"y1\": 2.625, \"yref\": \"y\"}, {\"fillcolor\": \"grey\", \"line\": {\"color\": \"LightSeaGreen\", \"width\": 3}, \"opacity\": 0.3, \"type\": \"rect\", \"x0\": 4.5, \"x1\": 5.5, \"xref\": \"x\", \"y0\": 2.625, \"y1\": 3.0, \"yref\": \"y\"}, {\"fillcolor\": \"grey\", \"line\": {\"color\": \"LightSeaGreen\", \"width\": 3}, \"opacity\": 0.3, \"type\": \"rect\", \"x0\": 4.5, \"x1\": 5.5, \"xref\": \"x\", \"y0\": 3.0, \"y1\": 3.375, \"yref\": \"y\"}, {\"fillcolor\": \"grey\", \"line\": {\"color\": \"LightSeaGreen\", \"width\": 3}, \"opacity\": 0.3, \"type\": \"rect\", \"x0\": 0.1, \"x1\": 1.1, \"xref\": \"x\", \"y0\": 5.0, \"y1\": 5.375, \"yref\": \"y\"}, {\"fillcolor\": \"grey\", \"line\": {\"color\": \"LightSeaGreen\", \"width\": 3}, \"opacity\": 0.3, \"type\": \"rect\", \"x0\": 0.1, \"x1\": 1.1, \"xref\": \"x\", \"y0\": 5.375, \"y1\": 5.75, \"yref\": \"y\"}, {\"fillcolor\": \"grey\", \"line\": {\"color\": \"LightSeaGreen\", \"width\": 3}, \"opacity\": 0.3, \"type\": \"rect\", \"x0\": 0.1, \"x1\": 1.1, \"xref\": \"x\", \"y0\": 5.75, \"y1\": 6.125, \"yref\": \"y\"}, {\"fillcolor\": \"grey\", \"line\": {\"color\": \"LightSeaGreen\", \"width\": 3}, \"opacity\": 0.3, \"type\": \"rect\", \"x0\": 0.1, \"x1\": 1.1, \"xref\": \"x\", \"y0\": 6.125, \"y1\": 6.5, \"yref\": \"y\"}, {\"fillcolor\": \"blue\", \"line\": {\"color\": \"LightSeaGreen\", \"width\": 3}, \"opacity\": 0.3, \"type\": \"rect\", \"x0\": 0.1, \"x1\": 1.1, \"xref\": \"x\", \"y0\": 6.5, \"y1\": 6.875, \"yref\": \"y\"}, {\"fillcolor\": \"blue\", \"line\": {\"color\": \"LightSeaGreen\", \"width\": 3}, \"opacity\": 0.3, \"type\": \"rect\", \"x0\": 0.1, \"x1\": 1.1, \"xref\": \"x\", \"y0\": 6.875, \"y1\": 7.25, \"yref\": \"y\"}, {\"fillcolor\": \"grey\", \"line\": {\"color\": \"LightSeaGreen\", \"width\": 3}, \"opacity\": 0.3, \"type\": \"rect\", \"x0\": 0.1, \"x1\": 1.1, \"xref\": \"x\", \"y0\": 7.25, \"y1\": 7.625, \"yref\": \"y\"}, {\"fillcolor\": \"grey\", \"line\": {\"color\": \"LightSeaGreen\", \"width\": 3}, \"opacity\": 0.3, \"type\": \"rect\", \"x0\": 0.1, \"x1\": 1.1, \"xref\": \"x\", \"y0\": 7.625, \"y1\": 8.0, \"yref\": \"y\"}, {\"fillcolor\": \"grey\", \"line\": {\"color\": \"LightSeaGreen\", \"width\": 3}, \"opacity\": 0.3, \"type\": \"rect\", \"x0\": 0.1, \"x1\": 1.1, \"xref\": \"x\", \"y0\": 8.0, \"y1\": 8.375, \"yref\": \"y\"}, {\"fillcolor\": \"grey\", \"line\": {\"color\": \"LightSeaGreen\", \"width\": 3}, \"opacity\": 0.3, \"type\": \"rect\", \"x0\": 1.2, \"x1\": 2.2, \"xref\": \"x\", \"y0\": 5.0, \"y1\": 5.375, \"yref\": \"y\"}, {\"fillcolor\": \"grey\", \"line\": {\"color\": \"LightSeaGreen\", \"width\": 3}, \"opacity\": 0.3, \"type\": \"rect\", \"x0\": 1.2, \"x1\": 2.2, \"xref\": \"x\", \"y0\": 5.375, \"y1\": 5.75, \"yref\": \"y\"}, {\"fillcolor\": \"grey\", \"line\": {\"color\": \"LightSeaGreen\", \"width\": 3}, \"opacity\": 0.3, \"type\": \"rect\", \"x0\": 1.2, \"x1\": 2.2, \"xref\": \"x\", \"y0\": 5.75, \"y1\": 6.125, \"yref\": \"y\"}, {\"fillcolor\": \"grey\", \"line\": {\"color\": \"LightSeaGreen\", \"width\": 3}, \"opacity\": 0.3, \"type\": \"rect\", \"x0\": 1.2, \"x1\": 2.2, \"xref\": \"x\", \"y0\": 6.125, \"y1\": 6.5, \"yref\": \"y\"}, {\"fillcolor\": \"grey\", \"line\": {\"color\": \"LightSeaGreen\", \"width\": 3}, \"opacity\": 0.3, \"type\": \"rect\", \"x0\": 1.2, \"x1\": 2.2, \"xref\": \"x\", \"y0\": 6.5, \"y1\": 6.875, \"yref\": \"y\"}, {\"fillcolor\": \"grey\", \"line\": {\"color\": \"LightSeaGreen\", \"width\": 3}, \"opacity\": 0.3, \"type\": \"rect\", \"x0\": 1.2, \"x1\": 2.2, \"xref\": \"x\", \"y0\": 6.875, \"y1\": 7.25, \"yref\": \"y\"}, {\"fillcolor\": \"grey\", \"line\": {\"color\": \"LightSeaGreen\", \"width\": 3}, \"opacity\": 0.3, \"type\": \"rect\", \"x0\": 1.2, \"x1\": 2.2, \"xref\": \"x\", \"y0\": 7.25, \"y1\": 7.625, \"yref\": \"y\"}, {\"fillcolor\": \"grey\", \"line\": {\"color\": \"LightSeaGreen\", \"width\": 3}, \"opacity\": 0.3, \"type\": \"rect\", \"x0\": 1.2, \"x1\": 2.2, \"xref\": \"x\", \"y0\": 7.625, \"y1\": 8.0, \"yref\": \"y\"}, {\"fillcolor\": \"grey\", \"line\": {\"color\": \"LightSeaGreen\", \"width\": 3}, \"opacity\": 0.3, \"type\": \"rect\", \"x0\": 1.2, \"x1\": 2.2, \"xref\": \"x\", \"y0\": 8.0, \"y1\": 8.375, \"yref\": \"y\"}, {\"fillcolor\": \"grey\", \"line\": {\"color\": \"LightSeaGreen\", \"width\": 3}, \"opacity\": 0.3, \"type\": \"rect\", \"x0\": 2.3, \"x1\": 3.3, \"xref\": \"x\", \"y0\": 5.0, \"y1\": 5.375, \"yref\": \"y\"}, {\"fillcolor\": \"grey\", \"line\": {\"color\": \"LightSeaGreen\", \"width\": 3}, \"opacity\": 0.3, \"type\": \"rect\", \"x0\": 2.3, \"x1\": 3.3, \"xref\": \"x\", \"y0\": 5.375, \"y1\": 5.75, \"yref\": \"y\"}, {\"fillcolor\": \"grey\", \"line\": {\"color\": \"LightSeaGreen\", \"width\": 3}, \"opacity\": 0.3, \"type\": \"rect\", \"x0\": 2.3, \"x1\": 3.3, \"xref\": \"x\", \"y0\": 5.75, \"y1\": 6.125, \"yref\": \"y\"}, {\"fillcolor\": \"grey\", \"line\": {\"color\": \"LightSeaGreen\", \"width\": 3}, \"opacity\": 0.3, \"type\": \"rect\", \"x0\": 2.3, \"x1\": 3.3, \"xref\": \"x\", \"y0\": 6.125, \"y1\": 6.5, \"yref\": \"y\"}, {\"fillcolor\": \"grey\", \"line\": {\"color\": \"LightSeaGreen\", \"width\": 3}, \"opacity\": 0.3, \"type\": \"rect\", \"x0\": 2.3, \"x1\": 3.3, \"xref\": \"x\", \"y0\": 6.5, \"y1\": 6.875, \"yref\": \"y\"}, {\"fillcolor\": \"grey\", \"line\": {\"color\": \"LightSeaGreen\", \"width\": 3}, \"opacity\": 0.3, \"type\": \"rect\", \"x0\": 2.3, \"x1\": 3.3, \"xref\": \"x\", \"y0\": 6.875, \"y1\": 7.25, \"yref\": \"y\"}, {\"fillcolor\": \"grey\", \"line\": {\"color\": \"LightSeaGreen\", \"width\": 3}, \"opacity\": 0.3, \"type\": \"rect\", \"x0\": 2.3, \"x1\": 3.3, \"xref\": \"x\", \"y0\": 7.25, \"y1\": 7.625, \"yref\": \"y\"}, {\"fillcolor\": \"grey\", \"line\": {\"color\": \"LightSeaGreen\", \"width\": 3}, \"opacity\": 0.3, \"type\": \"rect\", \"x0\": 2.3, \"x1\": 3.3, \"xref\": \"x\", \"y0\": 7.625, \"y1\": 8.0, \"yref\": \"y\"}, {\"fillcolor\": \"grey\", \"line\": {\"color\": \"LightSeaGreen\", \"width\": 3}, \"opacity\": 0.3, \"type\": \"rect\", \"x0\": 2.3, \"x1\": 3.3, \"xref\": \"x\", \"y0\": 8.0, \"y1\": 8.375, \"yref\": \"y\"}, {\"fillcolor\": \"grey\", \"line\": {\"color\": \"LightSeaGreen\", \"width\": 3}, \"opacity\": 0.3, \"type\": \"rect\", \"x0\": 3.4, \"x1\": 4.4, \"xref\": \"x\", \"y0\": 5.0, \"y1\": 5.375, \"yref\": \"y\"}, {\"fillcolor\": \"grey\", \"line\": {\"color\": \"LightSeaGreen\", \"width\": 3}, \"opacity\": 0.3, \"type\": \"rect\", \"x0\": 3.4, \"x1\": 4.4, \"xref\": \"x\", \"y0\": 5.375, \"y1\": 5.75, \"yref\": \"y\"}, {\"fillcolor\": \"grey\", \"line\": {\"color\": \"LightSeaGreen\", \"width\": 3}, \"opacity\": 0.3, \"type\": \"rect\", \"x0\": 3.4, \"x1\": 4.4, \"xref\": \"x\", \"y0\": 5.75, \"y1\": 6.125, \"yref\": \"y\"}, {\"fillcolor\": \"grey\", \"line\": {\"color\": \"LightSeaGreen\", \"width\": 3}, \"opacity\": 0.3, \"type\": \"rect\", \"x0\": 3.4, \"x1\": 4.4, \"xref\": \"x\", \"y0\": 6.125, \"y1\": 6.5, \"yref\": \"y\"}, {\"fillcolor\": \"grey\", \"line\": {\"color\": \"LightSeaGreen\", \"width\": 3}, \"opacity\": 0.3, \"type\": \"rect\", \"x0\": 3.4, \"x1\": 4.4, \"xref\": \"x\", \"y0\": 6.5, \"y1\": 6.875, \"yref\": \"y\"}, {\"fillcolor\": \"grey\", \"line\": {\"color\": \"LightSeaGreen\", \"width\": 3}, \"opacity\": 0.3, \"type\": \"rect\", \"x0\": 3.4, \"x1\": 4.4, \"xref\": \"x\", \"y0\": 6.875, \"y1\": 7.25, \"yref\": \"y\"}, {\"fillcolor\": \"grey\", \"line\": {\"color\": \"LightSeaGreen\", \"width\": 3}, \"opacity\": 0.3, \"type\": \"rect\", \"x0\": 3.4, \"x1\": 4.4, \"xref\": \"x\", \"y0\": 7.25, \"y1\": 7.625, \"yref\": \"y\"}, {\"fillcolor\": \"grey\", \"line\": {\"color\": \"LightSeaGreen\", \"width\": 3}, \"opacity\": 0.3, \"type\": \"rect\", \"x0\": 3.4, \"x1\": 4.4, \"xref\": \"x\", \"y0\": 7.625, \"y1\": 8.0, \"yref\": \"y\"}, {\"fillcolor\": \"grey\", \"line\": {\"color\": \"LightSeaGreen\", \"width\": 3}, \"opacity\": 0.3, \"type\": \"rect\", \"x0\": 3.4, \"x1\": 4.4, \"xref\": \"x\", \"y0\": 8.0, \"y1\": 8.375, \"yref\": \"y\"}, {\"fillcolor\": \"grey\", \"line\": {\"color\": \"LightSeaGreen\", \"width\": 3}, \"opacity\": 0.3, \"type\": \"rect\", \"x0\": 4.5, \"x1\": 5.5, \"xref\": \"x\", \"y0\": 5.0, \"y1\": 5.375, \"yref\": \"y\"}, {\"fillcolor\": \"grey\", \"line\": {\"color\": \"LightSeaGreen\", \"width\": 3}, \"opacity\": 0.3, \"type\": \"rect\", \"x0\": 4.5, \"x1\": 5.5, \"xref\": \"x\", \"y0\": 5.375, \"y1\": 5.75, \"yref\": \"y\"}, {\"fillcolor\": \"grey\", \"line\": {\"color\": \"LightSeaGreen\", \"width\": 3}, \"opacity\": 0.3, \"type\": \"rect\", \"x0\": 4.5, \"x1\": 5.5, \"xref\": \"x\", \"y0\": 5.75, \"y1\": 6.125, \"yref\": \"y\"}, {\"fillcolor\": \"grey\", \"line\": {\"color\": \"LightSeaGreen\", \"width\": 3}, \"opacity\": 0.3, \"type\": \"rect\", \"x0\": 4.5, \"x1\": 5.5, \"xref\": \"x\", \"y0\": 6.125, \"y1\": 6.5, \"yref\": \"y\"}, {\"fillcolor\": \"grey\", \"line\": {\"color\": \"LightSeaGreen\", \"width\": 3}, \"opacity\": 0.3, \"type\": \"rect\", \"x0\": 4.5, \"x1\": 5.5, \"xref\": \"x\", \"y0\": 6.5, \"y1\": 6.875, \"yref\": \"y\"}, {\"fillcolor\": \"grey\", \"line\": {\"color\": \"LightSeaGreen\", \"width\": 3}, \"opacity\": 0.3, \"type\": \"rect\", \"x0\": 4.5, \"x1\": 5.5, \"xref\": \"x\", \"y0\": 6.875, \"y1\": 7.25, \"yref\": \"y\"}, {\"fillcolor\": \"grey\", \"line\": {\"color\": \"LightSeaGreen\", \"width\": 3}, \"opacity\": 0.3, \"type\": \"rect\", \"x0\": 4.5, \"x1\": 5.5, \"xref\": \"x\", \"y0\": 7.25, \"y1\": 7.625, \"yref\": \"y\"}, {\"fillcolor\": \"grey\", \"line\": {\"color\": \"LightSeaGreen\", \"width\": 3}, \"opacity\": 0.3, \"type\": \"rect\", \"x0\": 4.5, \"x1\": 5.5, \"xref\": \"x\", \"y0\": 7.625, \"y1\": 8.0, \"yref\": \"y\"}, {\"fillcolor\": \"grey\", \"line\": {\"color\": \"LightSeaGreen\", \"width\": 3}, \"opacity\": 0.3, \"type\": \"rect\", \"x0\": 4.5, \"x1\": 5.5, \"xref\": \"x\", \"y0\": 8.0, \"y1\": 8.375, \"yref\": \"y\"}], \"showlegend\": false, \"template\": {\"data\": {\"bar\": [{\"error_x\": {\"color\": \"#2a3f5f\"}, \"error_y\": {\"color\": \"#2a3f5f\"}, \"marker\": {\"line\": {\"color\": \"#E5ECF6\", \"width\": 0.5}}, \"type\": \"bar\"}], \"barpolar\": [{\"marker\": {\"line\": {\"color\": \"#E5ECF6\", \"width\": 0.5}}, \"type\": \"barpolar\"}], \"carpet\": [{\"aaxis\": {\"endlinecolor\": \"#2a3f5f\", \"gridcolor\": \"white\", \"linecolor\": \"white\", \"minorgridcolor\": \"white\", \"startlinecolor\": \"#2a3f5f\"}, \"baxis\": {\"endlinecolor\": \"#2a3f5f\", \"gridcolor\": \"white\", \"linecolor\": \"white\", \"minorgridcolor\": \"white\", \"startlinecolor\": \"#2a3f5f\"}, \"type\": \"carpet\"}], \"choropleth\": [{\"colorbar\": {\"outlinewidth\": 0, \"ticks\": \"\"}, \"type\": \"choropleth\"}], \"contour\": [{\"colorbar\": {\"outlinewidth\": 0, \"ticks\": \"\"}, \"colorscale\": [[0.0, \"#0d0887\"], [0.1111111111111111, \"#46039f\"], [0.2222222222222222, \"#7201a8\"], [0.3333333333333333, \"#9c179e\"], [0.4444444444444444, \"#bd3786\"], [0.5555555555555556, \"#d8576b\"], [0.6666666666666666, \"#ed7953\"], [0.7777777777777778, \"#fb9f3a\"], [0.8888888888888888, \"#fdca26\"], [1.0, \"#f0f921\"]], \"type\": \"contour\"}], \"contourcarpet\": [{\"colorbar\": {\"outlinewidth\": 0, \"ticks\": \"\"}, \"type\": \"contourcarpet\"}], \"heatmap\": [{\"colorbar\": {\"outlinewidth\": 0, \"ticks\": \"\"}, \"colorscale\": [[0.0, \"#0d0887\"], [0.1111111111111111, \"#46039f\"], [0.2222222222222222, \"#7201a8\"], [0.3333333333333333, \"#9c179e\"], [0.4444444444444444, \"#bd3786\"], [0.5555555555555556, \"#d8576b\"], [0.6666666666666666, \"#ed7953\"], [0.7777777777777778, \"#fb9f3a\"], [0.8888888888888888, \"#fdca26\"], [1.0, \"#f0f921\"]], \"type\": \"heatmap\"}], \"heatmapgl\": [{\"colorbar\": {\"outlinewidth\": 0, \"ticks\": \"\"}, \"colorscale\": [[0.0, \"#0d0887\"], [0.1111111111111111, \"#46039f\"], [0.2222222222222222, \"#7201a8\"], [0.3333333333333333, \"#9c179e\"], [0.4444444444444444, \"#bd3786\"], [0.5555555555555556, \"#d8576b\"], [0.6666666666666666, \"#ed7953\"], [0.7777777777777778, \"#fb9f3a\"], [0.8888888888888888, \"#fdca26\"], [1.0, \"#f0f921\"]], \"type\": \"heatmapgl\"}], \"histogram\": [{\"marker\": {\"colorbar\": {\"outlinewidth\": 0, \"ticks\": \"\"}}, \"type\": \"histogram\"}], \"histogram2d\": [{\"colorbar\": {\"outlinewidth\": 0, \"ticks\": \"\"}, \"colorscale\": [[0.0, \"#0d0887\"], [0.1111111111111111, \"#46039f\"], [0.2222222222222222, \"#7201a8\"], [0.3333333333333333, \"#9c179e\"], [0.4444444444444444, \"#bd3786\"], [0.5555555555555556, \"#d8576b\"], [0.6666666666666666, \"#ed7953\"], [0.7777777777777778, \"#fb9f3a\"], [0.8888888888888888, \"#fdca26\"], [1.0, \"#f0f921\"]], \"type\": \"histogram2d\"}], \"histogram2dcontour\": [{\"colorbar\": {\"outlinewidth\": 0, \"ticks\": \"\"}, \"colorscale\": [[0.0, \"#0d0887\"], [0.1111111111111111, \"#46039f\"], [0.2222222222222222, \"#7201a8\"], [0.3333333333333333, \"#9c179e\"], [0.4444444444444444, \"#bd3786\"], [0.5555555555555556, \"#d8576b\"], [0.6666666666666666, \"#ed7953\"], [0.7777777777777778, \"#fb9f3a\"], [0.8888888888888888, \"#fdca26\"], [1.0, \"#f0f921\"]], \"type\": \"histogram2dcontour\"}], \"mesh3d\": [{\"colorbar\": {\"outlinewidth\": 0, \"ticks\": \"\"}, \"type\": \"mesh3d\"}], \"parcoords\": [{\"line\": {\"colorbar\": {\"outlinewidth\": 0, \"ticks\": \"\"}}, \"type\": \"parcoords\"}], \"pie\": [{\"automargin\": true, \"type\": \"pie\"}], \"scatter\": [{\"marker\": {\"colorbar\": {\"outlinewidth\": 0, \"ticks\": \"\"}}, \"type\": \"scatter\"}], \"scatter3d\": [{\"line\": {\"colorbar\": {\"outlinewidth\": 0, \"ticks\": \"\"}}, \"marker\": {\"colorbar\": {\"outlinewidth\": 0, \"ticks\": \"\"}}, \"type\": \"scatter3d\"}], \"scattercarpet\": [{\"marker\": {\"colorbar\": {\"outlinewidth\": 0, \"ticks\": \"\"}}, \"type\": \"scattercarpet\"}], \"scattergeo\": [{\"marker\": {\"colorbar\": {\"outlinewidth\": 0, \"ticks\": \"\"}}, \"type\": \"scattergeo\"}], \"scattergl\": [{\"marker\": {\"colorbar\": {\"outlinewidth\": 0, \"ticks\": \"\"}}, \"type\": \"scattergl\"}], \"scattermapbox\": [{\"marker\": {\"colorbar\": {\"outlinewidth\": 0, \"ticks\": \"\"}}, \"type\": \"scattermapbox\"}], \"scatterpolar\": [{\"marker\": {\"colorbar\": {\"outlinewidth\": 0, \"ticks\": \"\"}}, \"type\": \"scatterpolar\"}], \"scatterpolargl\": [{\"marker\": {\"colorbar\": {\"outlinewidth\": 0, \"ticks\": \"\"}}, \"type\": \"scatterpolargl\"}], \"scatterternary\": [{\"marker\": {\"colorbar\": {\"outlinewidth\": 0, \"ticks\": \"\"}}, \"type\": \"scatterternary\"}], \"surface\": [{\"colorbar\": {\"outlinewidth\": 0, \"ticks\": \"\"}, \"colorscale\": [[0.0, \"#0d0887\"], [0.1111111111111111, \"#46039f\"], [0.2222222222222222, \"#7201a8\"], [0.3333333333333333, \"#9c179e\"], [0.4444444444444444, \"#bd3786\"], [0.5555555555555556, \"#d8576b\"], [0.6666666666666666, \"#ed7953\"], [0.7777777777777778, \"#fb9f3a\"], [0.8888888888888888, \"#fdca26\"], [1.0, \"#f0f921\"]], \"type\": \"surface\"}], \"table\": [{\"cells\": {\"fill\": {\"color\": \"#EBF0F8\"}, \"line\": {\"color\": \"white\"}}, \"header\": {\"fill\": {\"color\": \"#C8D4E3\"}, \"line\": {\"color\": \"white\"}}, \"type\": \"table\"}]}, \"layout\": {\"annotationdefaults\": {\"arrowcolor\": \"#2a3f5f\", \"arrowhead\": 0, \"arrowwidth\": 1}, \"autotypenumbers\": \"strict\", \"coloraxis\": {\"colorbar\": {\"outlinewidth\": 0, \"ticks\": \"\"}}, \"colorscale\": {\"diverging\": [[0, \"#8e0152\"], [0.1, \"#c51b7d\"], [0.2, \"#de77ae\"], [0.3, \"#f1b6da\"], [0.4, \"#fde0ef\"], [0.5, \"#f7f7f7\"], [0.6, \"#e6f5d0\"], [0.7, \"#b8e186\"], [0.8, \"#7fbc41\"], [0.9, \"#4d9221\"], [1, \"#276419\"]], \"sequential\": [[0.0, \"#0d0887\"], [0.1111111111111111, \"#46039f\"], [0.2222222222222222, \"#7201a8\"], [0.3333333333333333, \"#9c179e\"], [0.4444444444444444, \"#bd3786\"], [0.5555555555555556, \"#d8576b\"], [0.6666666666666666, \"#ed7953\"], [0.7777777777777778, \"#fb9f3a\"], [0.8888888888888888, \"#fdca26\"], [1.0, \"#f0f921\"]], \"sequentialminus\": [[0.0, \"#0d0887\"], [0.1111111111111111, \"#46039f\"], [0.2222222222222222, \"#7201a8\"], [0.3333333333333333, \"#9c179e\"], [0.4444444444444444, \"#bd3786\"], [0.5555555555555556, \"#d8576b\"], [0.6666666666666666, \"#ed7953\"], [0.7777777777777778, \"#fb9f3a\"], [0.8888888888888888, \"#fdca26\"], [1.0, \"#f0f921\"]]}, \"colorway\": [\"#636efa\", \"#EF553B\", \"#00cc96\", \"#ab63fa\", \"#FFA15A\", \"#19d3f3\", \"#FF6692\", \"#B6E880\", \"#FF97FF\", \"#FECB52\"], \"font\": {\"color\": \"#2a3f5f\"}, \"geo\": {\"bgcolor\": \"white\", \"lakecolor\": \"white\", \"landcolor\": \"#E5ECF6\", \"showlakes\": true, \"showland\": true, \"subunitcolor\": \"white\"}, \"hoverlabel\": {\"align\": \"left\"}, \"hovermode\": \"closest\", \"mapbox\": {\"style\": \"light\"}, \"paper_bgcolor\": \"white\", \"plot_bgcolor\": \"#E5ECF6\", \"polar\": {\"angularaxis\": {\"gridcolor\": \"white\", \"linecolor\": \"white\", \"ticks\": \"\"}, \"bgcolor\": \"#E5ECF6\", \"radialaxis\": {\"gridcolor\": \"white\", \"linecolor\": \"white\", \"ticks\": \"\"}}, \"scene\": {\"xaxis\": {\"backgroundcolor\": \"#E5ECF6\", \"gridcolor\": \"white\", \"gridwidth\": 2, \"linecolor\": \"white\", \"showbackground\": true, \"ticks\": \"\", \"zerolinecolor\": \"white\"}, \"yaxis\": {\"backgroundcolor\": \"#E5ECF6\", \"gridcolor\": \"white\", \"gridwidth\": 2, \"linecolor\": \"white\", \"showbackground\": true, \"ticks\": \"\", \"zerolinecolor\": \"white\"}, \"zaxis\": {\"backgroundcolor\": \"#E5ECF6\", \"gridcolor\": \"white\", \"gridwidth\": 2, \"linecolor\": \"white\", \"showbackground\": true, \"ticks\": \"\", \"zerolinecolor\": \"white\"}}, \"shapedefaults\": {\"line\": {\"color\": \"#2a3f5f\"}}, \"ternary\": {\"aaxis\": {\"gridcolor\": \"white\", \"linecolor\": \"white\", \"ticks\": \"\"}, \"baxis\": {\"gridcolor\": \"white\", \"linecolor\": \"white\", \"ticks\": \"\"}, \"bgcolor\": \"#E5ECF6\", \"caxis\": {\"gridcolor\": \"white\", \"linecolor\": \"white\", \"ticks\": \"\"}}, \"title\": {\"x\": 0.05}, \"xaxis\": {\"automargin\": true, \"gridcolor\": \"white\", \"linecolor\": \"white\", \"ticks\": \"\", \"title\": {\"standoff\": 15}, \"zerolinecolor\": \"white\", \"zerolinewidth\": 2}, \"yaxis\": {\"automargin\": true, \"gridcolor\": \"white\", \"linecolor\": \"white\", \"ticks\": \"\", \"title\": {\"standoff\": 15}, \"zerolinecolor\": \"white\", \"zerolinewidth\": 2}}}, \"width\": 800, \"xaxis\": {\"showgrid\": false, \"showticklabels\": false, \"zeroline\": false}, \"yaxis\": {\"showgrid\": false, \"showticklabels\": false, \"zeroline\": false}},                        {\"responsive\": true}                    ).then(function(){\n",
       "                            \n",
       "var gd = document.getElementById('d63362ff-450a-4d5d-9034-6550dec659da');\n",
       "var x = new MutationObserver(function (mutations, observer) {{\n",
       "        var display = window.getComputedStyle(gd).display;\n",
       "        if (!display || display === 'none') {{\n",
       "            console.log([gd, 'removed!']);\n",
       "            Plotly.purge(gd);\n",
       "            observer.disconnect();\n",
       "        }}\n",
       "}});\n",
       "\n",
       "// Listen for the removal of the full notebook cells\n",
       "var notebookContainer = gd.closest('#notebook-container');\n",
       "if (notebookContainer) {{\n",
       "    x.observe(notebookContainer, {childList: true});\n",
       "}}\n",
       "\n",
       "// Listen for the clearing of the current output cell\n",
       "var outputEl = gd.closest('.output');\n",
       "if (outputEl) {{\n",
       "    x.observe(outputEl, {childList: true});\n",
       "}}\n",
       "\n",
       "                        })                };                });            </script>        </div>"
      ]
     },
     "metadata": {},
     "output_type": "display_data"
    }
   ],
   "source": [
    "fig = draw_calendar(calendar,assignment)\n",
    "draw_calendar(calendar,assignment,fig,5)\n",
    "fig.show()"
   ]
  },
  {
   "cell_type": "code",
   "execution_count": 12,
   "id": "geographic-audio",
   "metadata": {},
   "outputs": [],
   "source": [
    "def schedule_events(calendars: List[Calendar], events: List[Event], fixed_events: Dict[Calendar, List[Event]]): \n",
    "    pass"
   ]
  },
  {
   "cell_type": "code",
   "execution_count": 13,
   "id": "clean-vertical",
   "metadata": {},
   "outputs": [],
   "source": [
    "events = []\n",
    "fixed_events = []\n",
    "calendars = []\n",
    "days = 7"
   ]
  },
  {
   "cell_type": "code",
   "execution_count": 14,
   "id": "early-green",
   "metadata": {},
   "outputs": [],
   "source": [
    "calendar_timeslots = [range(c.day_start_time,c.day_end_time+1) for c in calendars]"
   ]
  },
  {
   "cell_type": "code",
   "execution_count": null,
   "id": "hollywood-folder",
   "metadata": {},
   "outputs": [],
   "source": []
  },
  {
   "cell_type": "code",
   "execution_count": 15,
   "id": "composed-apparel",
   "metadata": {},
   "outputs": [],
   "source": [
    "from ortools.linear_solver import pywraplp\n"
   ]
  },
  {
   "cell_type": "code",
   "execution_count": 16,
   "id": "premium-scientist",
   "metadata": {},
   "outputs": [],
   "source": [
    "z = { (i,c,d,t): solver.IntVar(0, 1, f'z_{i}_{c}_{d}_{t}') \n",
    "                 if (d in event.possible_days) and (t<=event.max_time) and (t>=event.min_time)\n",
    "                 else 0\n",
    "     \n",
    "                 for i,event in enumerate(events) \n",
    "                 for c,_ in enumerate(calendars) for d in range(days)  for t in calendar_timeslots[c]}\n"
   ]
  },
  {
   "cell_type": "code",
   "execution_count": 17,
   "id": "impressive-supervision",
   "metadata": {},
   "outputs": [],
   "source": [
    "# one event per time slot constraint\n",
    "for c,calendar in enumerate(calendars):\n",
    "    for d in range(days):\n",
    "        for t in calendar_timeslots[c]:\n",
    "            number_fixed = len([e for e in fixed_events[calendar] if ((d in e.possible_days)\n",
    "                              and (t >= e.min_time)\n",
    "                              and (t <= e.max_time)) ] )                \n",
    "\n",
    "            assert number_fixed <=1, \"Cannot have more than 1 event assigned for the same time slot\"\n",
    "            \n",
    "            if number_fixed == 0:\n",
    "                assigned_now = sum(z[i, c, d ,t] for i,_ in enumerate(events))\n",
    "                assigned_before = sum(z[i, c, d ,t2] for i,event in enumerate(events) \n",
    "                                      for t2 in range(calendar_timeslots[c]) if (t2<t) and (event.duration>t2-t) )\n",
    "                solver.Add(assigned_now + assigned_before <= 1)\n",
    "                \n",
    "    "
   ]
  },
  {
   "cell_type": "code",
   "execution_count": 18,
   "id": "abroad-michigan",
   "metadata": {},
   "outputs": [],
   "source": [
    "# daily load is respected \n",
    "for c,calendar in enumerate(calendars):\n",
    "    for d in range(days):       \n",
    "        \n",
    "        fixed_load = len([t for e in fixed_events[calendar] if ((d in e.possible_days)\n",
    "                              and (t >= e.min_time)\n",
    "                              and (t <= e.max_time)) ] )            \n",
    "\n",
    "        assert fixed_load <=calendar.daily_load, \"Fixed load is above the daily load limit\"\n",
    "\n",
    "        assigned_load = sum(z[i, c, d ,t]*event.duration  for i,event in enumerate(events ) for t in calendar_timeslots[c])\n",
    "\n",
    "        solver.Add(assigned_load + fixed_load <= calendar.daily_load)\n",
    "                \n",
    "    "
   ]
  },
  {
   "cell_type": "code",
   "execution_count": 19,
   "id": "executed-switzerland",
   "metadata": {},
   "outputs": [],
   "source": [
    "# Event is assigned only # repetition times\n",
    "\n",
    "for i,event in enumerate(events):\n",
    "    solver.Add(sum(z[i,c,d,t]) for i,event in enumerate(events) \n",
    "                 for c,_ in enumerate(calendars) for d in range(days)  for t in calendar_timeslots[c]<= event.repetition)\n",
    "\n"
   ]
  },
  {
   "cell_type": "code",
   "execution_count": null,
   "id": "seeing-guatemala",
   "metadata": {},
   "outputs": [],
   "source": []
  },
  {
   "cell_type": "code",
   "execution_count": 20,
   "id": "seasonal-working",
   "metadata": {},
   "outputs": [
    {
     "name": "stdout",
     "output_type": "stream",
     "text": [
      "Number of variables = 2\n",
      "Number of constraints = 2\n"
     ]
    }
   ],
   "source": [
    "solver = pywraplp.Solver.CreateSolver('SCIP')\n",
    "infinity = solver.infinity()\n",
    "# x and y are integer non-negative variables.\n",
    "x = solver.IntVar(0.0, infinity, 'x')\n",
    "y = solver.IntVar(0.0, infinity, 'y')\n",
    "\n",
    "print('Number of variables =', solver.NumVariables())\n",
    "# x + 7 * y <= 17.5.\n",
    "solver.Add(x + 7 * y <= 17.5)\n",
    "\n",
    "# x <= 3.5.\n",
    "solver.Add(x <= 3.5)\n",
    "\n",
    "print('Number of constraints =', solver.NumConstraints())\n",
    "\n",
    "solver.Maximize(x + 10 * y)\n"
   ]
  },
  {
   "cell_type": "code",
   "execution_count": 21,
   "id": "illegal-literature",
   "metadata": {},
   "outputs": [],
   "source": [
    "solver.Maximize(sum( z[i,c,d,t] * event.importance\n",
    "    for i,event in enumerate(events) \n",
    "                 for c,_ in enumerate(calendars) for d in range(days)  for t in calendar_timeslots[c]))"
   ]
  },
  {
   "cell_type": "code",
   "execution_count": 22,
   "id": "colored-scanning",
   "metadata": {},
   "outputs": [],
   "source": [
    "status = solver.Solve()\n"
   ]
  },
  {
   "cell_type": "code",
   "execution_count": 23,
   "id": "environmental-peoples",
   "metadata": {},
   "outputs": [
    {
     "name": "stdout",
     "output_type": "stream",
     "text": [
      "Solution:\n",
      "Objective value = 0.0\n",
      "x = -0.0\n",
      "y = -0.0\n"
     ]
    }
   ],
   "source": [
    "if status == pywraplp.Solver.OPTIMAL:\n",
    "    print('Solution:')\n",
    "    print('Objective value =', solver.Objective().Value())\n",
    "    print('x =', x.solution_value())\n",
    "    print('y =', y.solution_value())\n",
    "else:\n",
    "    print('The problem does not have an optimal solution.')"
   ]
  }
 ],
 "metadata": {
  "kernelspec": {
   "display_name": "Python 3",
   "language": "python",
   "name": "python3"
  },
  "language_info": {
   "codemirror_mode": {
    "name": "ipython",
    "version": 3
   },
   "file_extension": ".py",
   "mimetype": "text/x-python",
   "name": "python",
   "nbconvert_exporter": "python",
   "pygments_lexer": "ipython3",
   "version": "3.6.9"
  }
 },
 "nbformat": 4,
 "nbformat_minor": 5
}
